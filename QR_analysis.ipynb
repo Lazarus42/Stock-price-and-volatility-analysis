{
 "cells": [
  {
   "cell_type": "code",
   "execution_count": 1,
   "metadata": {},
   "outputs": [],
   "source": [
    "import pandas as pd\n",
    "import sys, os\n",
    "import matplotlib.pyplot as plt\n",
    "import numpy as np\n",
    "import xgboost as xgb"
   ]
  },
  {
   "cell_type": "code",
   "execution_count": 2,
   "metadata": {},
   "outputs": [],
   "source": [
    "os.chdir('/Users/spencergibson/Desktop')"
   ]
  },
  {
   "cell_type": "code",
   "execution_count": 41,
   "metadata": {},
   "outputs": [
    {
     "data": {
      "text/html": [
       "<div>\n",
       "<style scoped>\n",
       "    .dataframe tbody tr th:only-of-type {\n",
       "        vertical-align: middle;\n",
       "    }\n",
       "\n",
       "    .dataframe tbody tr th {\n",
       "        vertical-align: top;\n",
       "    }\n",
       "\n",
       "    .dataframe thead th {\n",
       "        text-align: right;\n",
       "    }\n",
       "</style>\n",
       "<table border=\"1\" class=\"dataframe\">\n",
       "  <thead>\n",
       "    <tr style=\"text-align: right;\">\n",
       "      <th></th>\n",
       "      <th>time</th>\n",
       "      <th>sym</th>\n",
       "      <th>exch</th>\n",
       "      <th>Q1</th>\n",
       "      <th>Q2</th>\n",
       "      <th>X1</th>\n",
       "      <th>X10</th>\n",
       "      <th>X100</th>\n",
       "      <th>X101</th>\n",
       "      <th>X102</th>\n",
       "      <th>...</th>\n",
       "      <th>X92</th>\n",
       "      <th>X93</th>\n",
       "      <th>X94</th>\n",
       "      <th>X95</th>\n",
       "      <th>X96</th>\n",
       "      <th>X97</th>\n",
       "      <th>X98</th>\n",
       "      <th>X99</th>\n",
       "      <th>Y1</th>\n",
       "      <th>Y2</th>\n",
       "    </tr>\n",
       "  </thead>\n",
       "  <tbody>\n",
       "    <tr>\n",
       "      <th>0</th>\n",
       "      <td>35101000</td>\n",
       "      <td>SPX</td>\n",
       "      <td>cme</td>\n",
       "      <td>1.00</td>\n",
       "      <td>1.00</td>\n",
       "      <td>0.690880</td>\n",
       "      <td>0.411336</td>\n",
       "      <td>-0.931992</td>\n",
       "      <td>-0.795623</td>\n",
       "      <td>0.323744</td>\n",
       "      <td>...</td>\n",
       "      <td>0.306629</td>\n",
       "      <td>0.202722</td>\n",
       "      <td>0.614319</td>\n",
       "      <td>-1.480256</td>\n",
       "      <td>-0.692901</td>\n",
       "      <td>0.271547</td>\n",
       "      <td>0.363600</td>\n",
       "      <td>0.418456</td>\n",
       "      <td>-3.641376</td>\n",
       "      <td>-8.869885</td>\n",
       "    </tr>\n",
       "    <tr>\n",
       "      <th>1</th>\n",
       "      <td>35102000</td>\n",
       "      <td>SPX</td>\n",
       "      <td>cme</td>\n",
       "      <td>1.00</td>\n",
       "      <td>1.00</td>\n",
       "      <td>0.012410</td>\n",
       "      <td>0.490745</td>\n",
       "      <td>-1.107317</td>\n",
       "      <td>-0.879008</td>\n",
       "      <td>0.085624</td>\n",
       "      <td>...</td>\n",
       "      <td>0.068109</td>\n",
       "      <td>-0.032056</td>\n",
       "      <td>-0.168017</td>\n",
       "      <td>-1.680816</td>\n",
       "      <td>-0.796525</td>\n",
       "      <td>0.035415</td>\n",
       "      <td>0.127641</td>\n",
       "      <td>-0.355632</td>\n",
       "      <td>-4.161573</td>\n",
       "      <td>-9.855279</td>\n",
       "    </tr>\n",
       "    <tr>\n",
       "      <th>2</th>\n",
       "      <td>35103000</td>\n",
       "      <td>SPX</td>\n",
       "      <td>cme</td>\n",
       "      <td>1.00</td>\n",
       "      <td>1.00</td>\n",
       "      <td>-0.562206</td>\n",
       "      <td>0.222636</td>\n",
       "      <td>-0.562283</td>\n",
       "      <td>-0.434286</td>\n",
       "      <td>-0.058180</td>\n",
       "      <td>...</td>\n",
       "      <td>-0.074431</td>\n",
       "      <td>-0.169338</td>\n",
       "      <td>-0.307943</td>\n",
       "      <td>-1.148484</td>\n",
       "      <td>-0.361814</td>\n",
       "      <td>-0.109707</td>\n",
       "      <td>-0.015605</td>\n",
       "      <td>-0.484356</td>\n",
       "      <td>-5.201696</td>\n",
       "      <td>-13.037217</td>\n",
       "    </tr>\n",
       "    <tr>\n",
       "      <th>3</th>\n",
       "      <td>35104000</td>\n",
       "      <td>SPX</td>\n",
       "      <td>cme</td>\n",
       "      <td>1.00</td>\n",
       "      <td>1.00</td>\n",
       "      <td>0.611162</td>\n",
       "      <td>0.895365</td>\n",
       "      <td>-0.606271</td>\n",
       "      <td>-0.565673</td>\n",
       "      <td>0.892154</td>\n",
       "      <td>...</td>\n",
       "      <td>0.866210</td>\n",
       "      <td>0.778337</td>\n",
       "      <td>0.720537</td>\n",
       "      <td>-1.206177</td>\n",
       "      <td>-0.506229</td>\n",
       "      <td>0.861149</td>\n",
       "      <td>0.959148</td>\n",
       "      <td>0.531968</td>\n",
       "      <td>-8.581905</td>\n",
       "      <td>-16.222198</td>\n",
       "    </tr>\n",
       "    <tr>\n",
       "      <th>4</th>\n",
       "      <td>35105000</td>\n",
       "      <td>SPX</td>\n",
       "      <td>cme</td>\n",
       "      <td>1.00</td>\n",
       "      <td>1.00</td>\n",
       "      <td>0.263148</td>\n",
       "      <td>0.699131</td>\n",
       "      <td>-0.831379</td>\n",
       "      <td>-0.823448</td>\n",
       "      <td>0.463870</td>\n",
       "      <td>...</td>\n",
       "      <td>0.433482</td>\n",
       "      <td>0.244060</td>\n",
       "      <td>0.095464</td>\n",
       "      <td>-1.450160</td>\n",
       "      <td>-0.782949</td>\n",
       "      <td>0.443536</td>\n",
       "      <td>0.433311</td>\n",
       "      <td>-0.090943</td>\n",
       "      <td>-8.322713</td>\n",
       "      <td>-17.588816</td>\n",
       "    </tr>\n",
       "    <tr>\n",
       "      <th>...</th>\n",
       "      <td>...</td>\n",
       "      <td>...</td>\n",
       "      <td>...</td>\n",
       "      <td>...</td>\n",
       "      <td>...</td>\n",
       "      <td>...</td>\n",
       "      <td>...</td>\n",
       "      <td>...</td>\n",
       "      <td>...</td>\n",
       "      <td>...</td>\n",
       "      <td>...</td>\n",
       "      <td>...</td>\n",
       "      <td>...</td>\n",
       "      <td>...</td>\n",
       "      <td>...</td>\n",
       "      <td>...</td>\n",
       "      <td>...</td>\n",
       "      <td>...</td>\n",
       "      <td>...</td>\n",
       "      <td>...</td>\n",
       "      <td>...</td>\n",
       "    </tr>\n",
       "    <tr>\n",
       "      <th>22495</th>\n",
       "      <td>57596000</td>\n",
       "      <td>SPX</td>\n",
       "      <td>cme</td>\n",
       "      <td>0.21</td>\n",
       "      <td>0.12</td>\n",
       "      <td>0.034295</td>\n",
       "      <td>-1.192947</td>\n",
       "      <td>NaN</td>\n",
       "      <td>-1.040731</td>\n",
       "      <td>NaN</td>\n",
       "      <td>...</td>\n",
       "      <td>NaN</td>\n",
       "      <td>-1.256609</td>\n",
       "      <td>-1.085969</td>\n",
       "      <td>NaN</td>\n",
       "      <td>-1.060124</td>\n",
       "      <td>NaN</td>\n",
       "      <td>-2.028626</td>\n",
       "      <td>-0.924568</td>\n",
       "      <td>1.045342</td>\n",
       "      <td>1.920757</td>\n",
       "    </tr>\n",
       "    <tr>\n",
       "      <th>22496</th>\n",
       "      <td>57597000</td>\n",
       "      <td>SPX</td>\n",
       "      <td>cme</td>\n",
       "      <td>0.21</td>\n",
       "      <td>0.12</td>\n",
       "      <td>-1.037593</td>\n",
       "      <td>-1.264724</td>\n",
       "      <td>NaN</td>\n",
       "      <td>0.614270</td>\n",
       "      <td>NaN</td>\n",
       "      <td>...</td>\n",
       "      <td>NaN</td>\n",
       "      <td>-0.436382</td>\n",
       "      <td>-0.488310</td>\n",
       "      <td>NaN</td>\n",
       "      <td>0.609001</td>\n",
       "      <td>NaN</td>\n",
       "      <td>-1.223317</td>\n",
       "      <td>-0.319625</td>\n",
       "      <td>0.522644</td>\n",
       "      <td>0.384092</td>\n",
       "    </tr>\n",
       "    <tr>\n",
       "      <th>22497</th>\n",
       "      <td>57598000</td>\n",
       "      <td>SPX</td>\n",
       "      <td>cme</td>\n",
       "      <td>0.21</td>\n",
       "      <td>0.12</td>\n",
       "      <td>-1.459643</td>\n",
       "      <td>-0.746727</td>\n",
       "      <td>NaN</td>\n",
       "      <td>1.082658</td>\n",
       "      <td>NaN</td>\n",
       "      <td>...</td>\n",
       "      <td>NaN</td>\n",
       "      <td>0.293667</td>\n",
       "      <td>-0.416507</td>\n",
       "      <td>NaN</td>\n",
       "      <td>1.102270</td>\n",
       "      <td>NaN</td>\n",
       "      <td>-0.482725</td>\n",
       "      <td>-0.242319</td>\n",
       "      <td>0.000000</td>\n",
       "      <td>-0.768096</td>\n",
       "    </tr>\n",
       "    <tr>\n",
       "      <th>22498</th>\n",
       "      <td>57599000</td>\n",
       "      <td>SPX</td>\n",
       "      <td>cme</td>\n",
       "      <td>0.21</td>\n",
       "      <td>0.12</td>\n",
       "      <td>-1.270207</td>\n",
       "      <td>-0.797160</td>\n",
       "      <td>NaN</td>\n",
       "      <td>1.116927</td>\n",
       "      <td>NaN</td>\n",
       "      <td>...</td>\n",
       "      <td>NaN</td>\n",
       "      <td>0.342586</td>\n",
       "      <td>-0.166629</td>\n",
       "      <td>NaN</td>\n",
       "      <td>1.162199</td>\n",
       "      <td>NaN</td>\n",
       "      <td>-0.421563</td>\n",
       "      <td>0.007323</td>\n",
       "      <td>-0.522589</td>\n",
       "      <td>-1.075302</td>\n",
       "    </tr>\n",
       "    <tr>\n",
       "      <th>22499</th>\n",
       "      <td>57600000</td>\n",
       "      <td>SPX</td>\n",
       "      <td>cme</td>\n",
       "      <td>0.20</td>\n",
       "      <td>0.20</td>\n",
       "      <td>NaN</td>\n",
       "      <td>NaN</td>\n",
       "      <td>NaN</td>\n",
       "      <td>NaN</td>\n",
       "      <td>NaN</td>\n",
       "      <td>...</td>\n",
       "      <td>NaN</td>\n",
       "      <td>NaN</td>\n",
       "      <td>NaN</td>\n",
       "      <td>NaN</td>\n",
       "      <td>NaN</td>\n",
       "      <td>NaN</td>\n",
       "      <td>NaN</td>\n",
       "      <td>NaN</td>\n",
       "      <td>0.000000</td>\n",
       "      <td>0.230452</td>\n",
       "    </tr>\n",
       "  </tbody>\n",
       "</table>\n",
       "<p>22500 rows × 382 columns</p>\n",
       "</div>"
      ],
      "text/plain": [
       "           time  sym exch    Q1    Q2        X1       X10      X100      X101  \\\n",
       "0      35101000  SPX  cme  1.00  1.00  0.690880  0.411336 -0.931992 -0.795623   \n",
       "1      35102000  SPX  cme  1.00  1.00  0.012410  0.490745 -1.107317 -0.879008   \n",
       "2      35103000  SPX  cme  1.00  1.00 -0.562206  0.222636 -0.562283 -0.434286   \n",
       "3      35104000  SPX  cme  1.00  1.00  0.611162  0.895365 -0.606271 -0.565673   \n",
       "4      35105000  SPX  cme  1.00  1.00  0.263148  0.699131 -0.831379 -0.823448   \n",
       "...         ...  ...  ...   ...   ...       ...       ...       ...       ...   \n",
       "22495  57596000  SPX  cme  0.21  0.12  0.034295 -1.192947       NaN -1.040731   \n",
       "22496  57597000  SPX  cme  0.21  0.12 -1.037593 -1.264724       NaN  0.614270   \n",
       "22497  57598000  SPX  cme  0.21  0.12 -1.459643 -0.746727       NaN  1.082658   \n",
       "22498  57599000  SPX  cme  0.21  0.12 -1.270207 -0.797160       NaN  1.116927   \n",
       "22499  57600000  SPX  cme  0.20  0.20       NaN       NaN       NaN       NaN   \n",
       "\n",
       "           X102  ...       X92       X93       X94       X95       X96  \\\n",
       "0      0.323744  ...  0.306629  0.202722  0.614319 -1.480256 -0.692901   \n",
       "1      0.085624  ...  0.068109 -0.032056 -0.168017 -1.680816 -0.796525   \n",
       "2     -0.058180  ... -0.074431 -0.169338 -0.307943 -1.148484 -0.361814   \n",
       "3      0.892154  ...  0.866210  0.778337  0.720537 -1.206177 -0.506229   \n",
       "4      0.463870  ...  0.433482  0.244060  0.095464 -1.450160 -0.782949   \n",
       "...         ...  ...       ...       ...       ...       ...       ...   \n",
       "22495       NaN  ...       NaN -1.256609 -1.085969       NaN -1.060124   \n",
       "22496       NaN  ...       NaN -0.436382 -0.488310       NaN  0.609001   \n",
       "22497       NaN  ...       NaN  0.293667 -0.416507       NaN  1.102270   \n",
       "22498       NaN  ...       NaN  0.342586 -0.166629       NaN  1.162199   \n",
       "22499       NaN  ...       NaN       NaN       NaN       NaN       NaN   \n",
       "\n",
       "            X97       X98       X99        Y1         Y2  \n",
       "0      0.271547  0.363600  0.418456 -3.641376  -8.869885  \n",
       "1      0.035415  0.127641 -0.355632 -4.161573  -9.855279  \n",
       "2     -0.109707 -0.015605 -0.484356 -5.201696 -13.037217  \n",
       "3      0.861149  0.959148  0.531968 -8.581905 -16.222198  \n",
       "4      0.443536  0.433311 -0.090943 -8.322713 -17.588816  \n",
       "...         ...       ...       ...       ...        ...  \n",
       "22495       NaN -2.028626 -0.924568  1.045342   1.920757  \n",
       "22496       NaN -1.223317 -0.319625  0.522644   0.384092  \n",
       "22497       NaN -0.482725 -0.242319  0.000000  -0.768096  \n",
       "22498       NaN -0.421563  0.007323 -0.522589  -1.075302  \n",
       "22499       NaN       NaN       NaN  0.000000   0.230452  \n",
       "\n",
       "[22500 rows x 382 columns]"
      ]
     },
     "execution_count": 41,
     "metadata": {},
     "output_type": "execute_result"
    }
   ],
   "source": [
    "### Checking what the first day looks like to get an idea\n",
    "\n",
    "pd.read_parquet('qr_takehome/QR_TAKEHOME_20220104.csv.parquet', engine='pyarrow')"
   ]
  },
  {
   "cell_type": "code",
   "execution_count": 3,
   "metadata": {},
   "outputs": [],
   "source": [
    "''''    \n",
    "Add each parquet file to a pandas dataframe and include a date column for identification purposes\n",
    "This is for predicting Y1 only\n",
    "'''\n",
    "\n",
    "dfs_y2 = []\n",
    "\n",
    "for file in os.listdir('qr_takehome'):\n",
    "    if file[0] != 'Q':\n",
    "        continue\n",
    "    curr_data = pd.read_parquet(f'qr_takehome/{file}', engine='pyarrow')\n",
    "    curr_data['day'] = file \n",
    "    dfs_y2.append(curr_data)\n",
    "\n",
    "data_y2 = pd.concat(dfs_y2, ignore_index=True)"
   ]
  },
  {
   "cell_type": "code",
   "execution_count": 47,
   "metadata": {},
   "outputs": [
    {
     "data": {
      "text/plain": [
       "298"
      ]
     },
     "execution_count": 47,
     "metadata": {},
     "output_type": "execute_result"
    }
   ],
   "source": [
    "len(dfs_y2)"
   ]
  },
  {
   "cell_type": "code",
   "execution_count": 48,
   "metadata": {},
   "outputs": [
    {
     "data": {
      "text/plain": [
       "(6705000, 383)"
      ]
     },
     "execution_count": 48,
     "metadata": {},
     "output_type": "execute_result"
    }
   ],
   "source": [
    "data_y2.shape"
   ]
  },
  {
   "cell_type": "code",
   "execution_count": 4,
   "metadata": {},
   "outputs": [],
   "source": [
    "data_y2 = data_y2[data_y2['Q2'] > .999]"
   ]
  },
  {
   "cell_type": "code",
   "execution_count": 50,
   "metadata": {},
   "outputs": [
    {
     "data": {
      "text/plain": [
       "(6404259, 383)"
      ]
     },
     "execution_count": 50,
     "metadata": {},
     "output_type": "execute_result"
    }
   ],
   "source": [
    "data_y2.shape"
   ]
  },
  {
   "cell_type": "code",
   "execution_count": 51,
   "metadata": {},
   "outputs": [
    {
     "name": "stdout",
     "output_type": "stream",
     "text": [
      "Index(['time', 'sym', 'exch', 'Q1', 'Q2', 'X1', 'X10', 'X100', 'X101', 'X102',\n",
      "       ...\n",
      "       'X93', 'X94', 'X95', 'X96', 'X97', 'X98', 'X99', 'Y1', 'Y2', 'day'],\n",
      "      dtype='object', length=383)\n"
     ]
    },
    {
     "data": {
      "text/plain": [
       "time      int64\n",
       "sym      object\n",
       "exch     object\n",
       "Q1      float32\n",
       "Q2      float32\n",
       "         ...   \n",
       "X98     float32\n",
       "X99     float32\n",
       "Y1      float32\n",
       "Y2      float32\n",
       "day      object\n",
       "Length: 383, dtype: object"
      ]
     },
     "execution_count": 51,
     "metadata": {},
     "output_type": "execute_result"
    }
   ],
   "source": [
    "print(data_y2.columns)\n",
    "data_y2.dtypes"
   ]
  },
  {
   "cell_type": "code",
   "execution_count": 52,
   "metadata": {},
   "outputs": [
    {
     "data": {
      "text/plain": [
       "0.02546164981772286"
      ]
     },
     "execution_count": 52,
     "metadata": {},
     "output_type": "execute_result"
    }
   ],
   "source": [
    "### Looking at the number of rows with missing values. This is 3%. \n",
    "\n",
    "num_rows_with_nans = data_y2.isna().any(axis=1).sum()\n",
    "num_rows_with_9999 = (data_y2 == 999999).any().sum()\n",
    "(num_rows_with_nans + num_rows_with_9999) / data_y2.shape[0]"
   ]
  },
  {
   "cell_type": "code",
   "execution_count": 53,
   "metadata": {},
   "outputs": [
    {
     "name": "stdout",
     "output_type": "stream",
     "text": [
      "Series([], dtype: float64)\n"
     ]
    }
   ],
   "source": [
    "### Checking the proportion of columns that have more than 10% missing. All columns have less than 3% missing\n",
    "nan_proportion = data_y2.isna().mean()\n",
    "\n",
    "nan_nonzero_proportion = nan_proportion[nan_proportion > .04]\n",
    "print(nan_nonzero_proportion)"
   ]
  },
  {
   "cell_type": "code",
   "execution_count": 5,
   "metadata": {},
   "outputs": [
    {
     "data": {
      "text/plain": [
       "0.9745383501822772"
      ]
     },
     "execution_count": 5,
     "metadata": {},
     "output_type": "execute_result"
    }
   ],
   "source": [
    "### Removing any row with missing values\n",
    "\n",
    "data_y2_cleaned = data_y2.dropna()\n",
    "data_y2_cleaned.shape[0] / data_y2.shape[0]"
   ]
  },
  {
   "cell_type": "code",
   "execution_count": 59,
   "metadata": {},
   "outputs": [
    {
     "data": {
      "text/plain": [
       "0"
      ]
     },
     "execution_count": 59,
     "metadata": {},
     "output_type": "execute_result"
    }
   ],
   "source": [
    "np.isnan(data_y2_cleaned[\"Y2\"]).sum()"
   ]
  },
  {
   "cell_type": "code",
   "execution_count": 60,
   "metadata": {},
   "outputs": [],
   "source": [
    "### Saving the cleaned data for easier access \n",
    "\n",
    "cleaned_data_file_path =  'qr_takehome/Cleaned Data/Y2 Calibration/data_y2_cleaned.parquet'\n",
    "data_y2_cleaned.to_parquet(cleaned_data_file_path)"
   ]
  },
  {
   "cell_type": "code",
   "execution_count": 4,
   "metadata": {},
   "outputs": [],
   "source": [
    "### Loading cleaned data in case of crash \n",
    "# Define the directory where the files are saved\n",
    "save_dir = 'qr_takehome/Cleaned Data/Y2 Calibration/'\n",
    "\n",
    "# Load the .parquet files into their corresponding variables\n",
    "data_y2_cleaned = pd.read_parquet(os.path.join(save_dir, 'data_y2_cleaned.parquet'))"
   ]
  },
  {
   "cell_type": "code",
   "execution_count": 5,
   "metadata": {},
   "outputs": [],
   "source": [
    "group = data_y2_cleaned.groupby('day')"
   ]
  },
  {
   "cell_type": "code",
   "execution_count": 62,
   "metadata": {},
   "outputs": [
    {
     "name": "stdout",
     "output_type": "stream",
     "text": [
      "15 QR_TAKEHOME_20230106.csv.parquet\n"
     ]
    }
   ],
   "source": [
    "# Checking if the average y2 or Y2 values change substantially over time\n",
    "\n",
    "groups = data_y2_cleaned.groupby('day')\n",
    "Y2_vals = []\n",
    "time_cutoff_list = [11, 12, 13, 14, 15, 16]\n",
    "time_cutoff_dict_Y2 = {11:[], 12:[], 13:[], 14:[], 15:[], 16:[]}\n",
    "for name, group in groups:\n",
    "    prev = 35101000\n",
    "    Y2_vals.append(group[\"Y2\"].mean())\n",
    "    # Get the average y2 up to time X across days\n",
    "    for time_cutoff in time_cutoff_list:\n",
    "        avg_Y2 = group[(group[\"time\"] >= prev) &  \n",
    "                       (group[\"time\"] <= time_cutoff * 60 * 60 * 1000)]\n",
    "        if avg_Y2.shape[0] == 0: # If there are no entries don't take the mean\n",
    "            print(time_cutoff, name)\n",
    "            continue \n",
    "        time_cutoff_dict_Y2[time_cutoff].append(avg_Y2[\"y2\"].mean())\n",
    "        prev = time_cutoff * 60 * 60 * 1000 + 1\n"
   ]
  },
  {
   "cell_type": "code",
   "execution_count": 63,
   "metadata": {},
   "outputs": [],
   "source": [
    "# Fitting a linear model to the data to check for increasing trends\n",
    "\n",
    "from scipy.stats import linregress\n",
    "Y2_times = [i for i in range(len(Y2_vals))]\n",
    "slope_Y2, intercept_Y2, *_ = linregress(Y2_times, Y2_vals)"
   ]
  },
  {
   "cell_type": "code",
   "execution_count": 64,
   "metadata": {},
   "outputs": [
    {
     "data": {
      "text/plain": [
       "298"
      ]
     },
     "execution_count": 64,
     "metadata": {},
     "output_type": "execute_result"
    }
   ],
   "source": [
    "len(Y2_vals)"
   ]
  },
  {
   "cell_type": "code",
   "execution_count": null,
   "metadata": {},
   "outputs": [],
   "source": [
    "# Things to consider: \n",
    "# Is there a significant change in Y value over time? \n",
    "# Is there a significant change in Y value across time periods during the day?"
   ]
  },
  {
   "cell_type": "code",
   "execution_count": 65,
   "metadata": {},
   "outputs": [
    {
     "data": {
      "image/png": "[encoded data removed]",
      "text/plain": [
       "<Figure size 640x480 with 1 Axes>"
      ]
     },
     "metadata": {},
     "output_type": "display_data"
    }
   ],
   "source": [
    "### Plotting the average daily value of y2 over the dataset. There is a slight increase but not substantial.\n",
    "\n",
    "plt.plot(Y2_times, Y2_vals)\n",
    "plt.plot(Y2_times, np.array(Y2_times) * slope_Y2 + intercept_Y2)\n",
    "plt.xlabel('Time')\n",
    "plt.ylabel('Y2')\n",
    "plt.title(\"Y2 over time\")\n",
    "plt.show()"
   ]
  },
  {
   "cell_type": "code",
   "execution_count": 66,
   "metadata": {},
   "outputs": [
    {
     "data": {
      "text/plain": [
       "0"
      ]
     },
     "execution_count": 66,
     "metadata": {},
     "output_type": "execute_result"
    }
   ],
   "source": [
    "np.isnan(time_cutoff_dict_Y2[15]).sum()\n",
    "#plt.plot(time_cutoff_dict_y2.keys(), time_cutoff_dict_y2.values())"
   ]
  },
  {
   "cell_type": "code",
   "execution_count": 69,
   "metadata": {},
   "outputs": [
    {
     "name": "stdout",
     "output_type": "stream",
     "text": [
      "11 0.050228857\n",
      "12 0.03051823\n",
      "13 -0.1202506\n",
      "14 0.08934679\n",
      "15 0.174714\n",
      "16 -0.04671645\n"
     ]
    }
   ],
   "source": [
    "# It is possible that splitting by time value during the day gives better results. This could be because certain trades execute in the morning \n",
    "# that were placed after-hours or traders execute more before they finish the data, etc. We loop through all hours and look at the difference in \n",
    "# average price \n",
    "for key_time in time_cutoff_dict_Y2.keys():\n",
    "    print(key_time, np.mean(time_cutoff_dict_Y2[key_time]))"
   ]
  },
  {
   "cell_type": "code",
   "execution_count": 70,
   "metadata": {},
   "outputs": [
    {
     "name": "stdout",
     "output_type": "stream",
     "text": [
      "(-11.868839717667182, 6.57669025388587e-22, 2, 295, {'1%': -3.452713099849546, '5%': -2.871387839457783, '10%': -2.5720171933352485}, 1179.834959794601)\n"
     ]
    }
   ],
   "source": [
    "from statsmodels.tsa.stattools import adfuller\n",
    "\n",
    "result_adf_Y2 = adfuller(Y2_vals)\n",
    "print(result_adf_Y2)"
   ]
  },
  {
   "cell_type": "code",
   "execution_count": 72,
   "metadata": {},
   "outputs": [
    {
     "name": "stdout",
     "output_type": "stream",
     "text": [
      "Mann_Kendall_Test(trend='no trend', h=False, p=0.2690449518778377, z=1.1052646009537574, Tau=0.042957539601834904, s=1901.0, var_s=2955117.0, slope=0.0014943159543550932, intercept=-0.04906369974979988)\n"
     ]
    }
   ],
   "source": [
    "import pymannkendall as mk\n",
    "\n",
    "result = mk.original_test(Y2_vals, alpha=0.05)\n",
    "print(result)"
   ]
  },
  {
   "cell_type": "code",
   "execution_count": 6,
   "metadata": {},
   "outputs": [],
   "source": [
    "### If the time variable is at or before 12:00 PM, the afternoon variable is set to 0 else set to 1\n",
    "\n",
    "data_y2_cleaned.loc[data_y2_cleaned['time'] > 43200000, 'afternoon'] = 1\n",
    "data_y2_cleaned.loc[data_y2_cleaned['time'] <= 43200000, 'afternoon'] = 0"
   ]
  },
  {
   "cell_type": "code",
   "execution_count": 38,
   "metadata": {},
   "outputs": [
    {
     "data": {
      "text/plain": [
       "True"
      ]
     },
     "execution_count": 38,
     "metadata": {},
     "output_type": "execute_result"
    }
   ],
   "source": [
    "data_y2_cleaned.isna().any().any()"
   ]
  },
  {
   "cell_type": "code",
   "execution_count": 7,
   "metadata": {},
   "outputs": [
    {
     "data": {
      "text/plain": [
       "10         0.0\n",
       "11         0.0\n",
       "13         0.0\n",
       "14         0.0\n",
       "15         0.0\n",
       "          ... \n",
       "6704607    1.0\n",
       "6704608    1.0\n",
       "6704609    1.0\n",
       "6704612    1.0\n",
       "6704613    1.0\n",
       "Name: afternoon, Length: 6241196, dtype: float64"
      ]
     },
     "execution_count": 7,
     "metadata": {},
     "output_type": "execute_result"
    }
   ],
   "source": [
    "data_y2_cleaned['afternoon']"
   ]
  },
  {
   "cell_type": "code",
   "execution_count": 45,
   "metadata": {},
   "outputs": [
    {
     "name": "stdout",
     "output_type": "stream",
     "text": [
      "Series([], dtype: bool)\n"
     ]
    }
   ],
   "source": [
    "# Check for NaNs in each column\n",
    "nan_columns = data_y2_cleaned.isna().any()\n",
    "\n",
    "# Print columns that contain NaNs\n",
    "print(nan_columns[nan_columns == True])"
   ]
  },
  {
   "cell_type": "code",
   "execution_count": 8,
   "metadata": {},
   "outputs": [
    {
     "name": "stdout",
     "output_type": "stream",
     "text": [
      "Training Set:\n",
      " (3767637, 386) \n",
      "\n",
      "Validation Set:\n",
      " (1249286, 386) \n",
      "\n",
      "Test Set:\n",
      " (1224273, 386) \n",
      "\n",
      "Full Set:\n",
      " (6241196, 386) \n",
      "\n"
     ]
    }
   ],
   "source": [
    "### Splitting into training, validation, test sets.\n",
    "### The most recent data should be the test set, followed by the validation and the training in that order.\n",
    "### I will use 01/2022 through the end of 09/2022 for train, 10/2022 through 12/2022 for val and 01/2023 through 03/2023 for test\n",
    "### The split of train-val-test is about 60-20-20 which seems reasonable\n",
    "import re\n",
    "\n",
    "def parse_date_from_filename(filename):\n",
    "    # Use regular expression to extract the date part\n",
    "    match = re.search(r'(\\d{4})(\\d{2})(\\d{2})', filename)\n",
    "    if match:\n",
    "        year, month, day = match.groups()\n",
    "        return {\n",
    "            'year': int(year),\n",
    "            'month': int(month),\n",
    "            'day': int(day)\n",
    "        }\n",
    "    else:\n",
    "        return None\n",
    "\n",
    "\n",
    "\n",
    "# Use the parse_date_from_filename function to extract date components\n",
    "data_y2_cleaned['date_info'] = data_y2_cleaned['day'].apply(parse_date_from_filename)\n",
    "\n",
    "# Convert the date_info into a datetime object for easy comparison\n",
    "data_y2_cleaned['date'] = pd.to_datetime(data_y2_cleaned['date_info'].apply(lambda x: f\"{x['year']}-{x['month']:02d}-{x['day']:02d}\"))\n",
    "\n",
    "# Define your date ranges\n",
    "train_start, train_end = pd.to_datetime('2022-01-01'), pd.to_datetime('2022-09-30')\n",
    "val_start, val_end = pd.to_datetime('2022-10-01'), pd.to_datetime('2022-12-31')\n",
    "test_start, test_end = pd.to_datetime('2023-01-01'), pd.to_datetime('2023-03-31')\n",
    "\n",
    "# Filter the DataFrame based on the date ranges\n",
    "train_set = data_y2_cleaned[(data_y2_cleaned['date'] >= train_start) & (data_y2_cleaned['date'] <= train_end)]\n",
    "val_set = data_y2_cleaned[(data_y2_cleaned['date'] >= val_start) & (data_y2_cleaned['date'] <= val_end)]\n",
    "test_set = data_y2_cleaned[(data_y2_cleaned['date'] >= test_start) & (data_y2_cleaned['date'] <= test_end)]\n",
    "\n",
    "# Output the results\n",
    "print('Training Set:\\n', train_set.shape, '\\n')\n",
    "print('Validation Set:\\n', val_set.shape, '\\n')\n",
    "print('Test Set:\\n', test_set.shape, '\\n')\n",
    "print('Full Set:\\n', data_y2_cleaned.shape, '\\n')\n"
   ]
  },
  {
   "cell_type": "code",
   "execution_count": 47,
   "metadata": {},
   "outputs": [
    {
     "data": {
      "text/plain": [
       "True"
      ]
     },
     "execution_count": 47,
     "metadata": {},
     "output_type": "execute_result"
    }
   ],
   "source": [
    "3767637 + 1249286 + 1224273 == 6241196"
   ]
  },
  {
   "cell_type": "code",
   "execution_count": 10,
   "metadata": {},
   "outputs": [
    {
     "ename": "KeyError",
     "evalue": "'y2'",
     "output_type": "error",
     "traceback": [
      "\u001b[0;31m---------------------------------------------------------------------------\u001b[0m",
      "\u001b[0;31mKeyError\u001b[0m                                  Traceback (most recent call last)",
      "File \u001b[0;32m/Library/Frameworks/Python.framework/Versions/3.11/lib/python3.11/site-packages/pandas/core/indexes/base.py:3652\u001b[0m, in \u001b[0;36mIndex.get_loc\u001b[0;34m(self, key)\u001b[0m\n\u001b[1;32m   3651\u001b[0m \u001b[38;5;28;01mtry\u001b[39;00m:\n\u001b[0;32m-> 3652\u001b[0m     \u001b[38;5;28;01mreturn\u001b[39;00m \u001b[38;5;28;43mself\u001b[39;49m\u001b[38;5;241;43m.\u001b[39;49m\u001b[43m_engine\u001b[49m\u001b[38;5;241;43m.\u001b[39;49m\u001b[43mget_loc\u001b[49m\u001b[43m(\u001b[49m\u001b[43mcasted_key\u001b[49m\u001b[43m)\u001b[49m\n\u001b[1;32m   3653\u001b[0m \u001b[38;5;28;01mexcept\u001b[39;00m \u001b[38;5;167;01mKeyError\u001b[39;00m \u001b[38;5;28;01mas\u001b[39;00m err:\n",
      "File \u001b[0;32m/Library/Frameworks/Python.framework/Versions/3.11/lib/python3.11/site-packages/pandas/_libs/index.pyx:147\u001b[0m, in \u001b[0;36mpandas._libs.index.IndexEngine.get_loc\u001b[0;34m()\u001b[0m\n",
      "File \u001b[0;32m/Library/Frameworks/Python.framework/Versions/3.11/lib/python3.11/site-packages/pandas/_libs/index.pyx:176\u001b[0m, in \u001b[0;36mpandas._libs.index.IndexEngine.get_loc\u001b[0;34m()\u001b[0m\n",
      "File \u001b[0;32mpandas/_libs/hashtable_class_helper.pxi:7080\u001b[0m, in \u001b[0;36mpandas._libs.hashtable.PyObjectHashTable.get_item\u001b[0;34m()\u001b[0m\n",
      "File \u001b[0;32mpandas/_libs/hashtable_class_helper.pxi:7088\u001b[0m, in \u001b[0;36mpandas._libs.hashtable.PyObjectHashTable.get_item\u001b[0;34m()\u001b[0m\n",
      "\u001b[0;31mKeyError\u001b[0m: 'y2'",
      "\nThe above exception was the direct cause of the following exception:\n",
      "\u001b[0;31mKeyError\u001b[0m                                  Traceback (most recent call last)",
      "Cell \u001b[0;32mIn[10], line 1\u001b[0m\n\u001b[0;32m----> 1\u001b[0m plt\u001b[38;5;241m.\u001b[39mhist(\u001b[43mtrain_set\u001b[49m\u001b[43m[\u001b[49m\u001b[38;5;124;43m'\u001b[39;49m\u001b[38;5;124;43my2\u001b[39;49m\u001b[38;5;124;43m'\u001b[39;49m\u001b[43m]\u001b[49m, bins\u001b[38;5;241m=\u001b[39m\u001b[38;5;241m100\u001b[39m)\n\u001b[1;32m      2\u001b[0m plt\u001b[38;5;241m.\u001b[39mshow()\n\u001b[1;32m      4\u001b[0m plt\u001b[38;5;241m.\u001b[39mhist(train_set[\u001b[38;5;124m'\u001b[39m\u001b[38;5;124mY2\u001b[39m\u001b[38;5;124m'\u001b[39m], bins\u001b[38;5;241m=\u001b[39m\u001b[38;5;241m100\u001b[39m)\n",
      "File \u001b[0;32m/Library/Frameworks/Python.framework/Versions/3.11/lib/python3.11/site-packages/pandas/core/frame.py:3761\u001b[0m, in \u001b[0;36mDataFrame.__getitem__\u001b[0;34m(self, key)\u001b[0m\n\u001b[1;32m   3759\u001b[0m \u001b[38;5;28;01mif\u001b[39;00m \u001b[38;5;28mself\u001b[39m\u001b[38;5;241m.\u001b[39mcolumns\u001b[38;5;241m.\u001b[39mnlevels \u001b[38;5;241m>\u001b[39m \u001b[38;5;241m1\u001b[39m:\n\u001b[1;32m   3760\u001b[0m     \u001b[38;5;28;01mreturn\u001b[39;00m \u001b[38;5;28mself\u001b[39m\u001b[38;5;241m.\u001b[39m_getitem_multilevel(key)\n\u001b[0;32m-> 3761\u001b[0m indexer \u001b[38;5;241m=\u001b[39m \u001b[38;5;28;43mself\u001b[39;49m\u001b[38;5;241;43m.\u001b[39;49m\u001b[43mcolumns\u001b[49m\u001b[38;5;241;43m.\u001b[39;49m\u001b[43mget_loc\u001b[49m\u001b[43m(\u001b[49m\u001b[43mkey\u001b[49m\u001b[43m)\u001b[49m\n\u001b[1;32m   3762\u001b[0m \u001b[38;5;28;01mif\u001b[39;00m is_integer(indexer):\n\u001b[1;32m   3763\u001b[0m     indexer \u001b[38;5;241m=\u001b[39m [indexer]\n",
      "File \u001b[0;32m/Library/Frameworks/Python.framework/Versions/3.11/lib/python3.11/site-packages/pandas/core/indexes/base.py:3654\u001b[0m, in \u001b[0;36mIndex.get_loc\u001b[0;34m(self, key)\u001b[0m\n\u001b[1;32m   3652\u001b[0m     \u001b[38;5;28;01mreturn\u001b[39;00m \u001b[38;5;28mself\u001b[39m\u001b[38;5;241m.\u001b[39m_engine\u001b[38;5;241m.\u001b[39mget_loc(casted_key)\n\u001b[1;32m   3653\u001b[0m \u001b[38;5;28;01mexcept\u001b[39;00m \u001b[38;5;167;01mKeyError\u001b[39;00m \u001b[38;5;28;01mas\u001b[39;00m err:\n\u001b[0;32m-> 3654\u001b[0m     \u001b[38;5;28;01mraise\u001b[39;00m \u001b[38;5;167;01mKeyError\u001b[39;00m(key) \u001b[38;5;28;01mfrom\u001b[39;00m \u001b[38;5;21;01merr\u001b[39;00m\n\u001b[1;32m   3655\u001b[0m \u001b[38;5;28;01mexcept\u001b[39;00m \u001b[38;5;167;01mTypeError\u001b[39;00m:\n\u001b[1;32m   3656\u001b[0m     \u001b[38;5;66;03m# If we have a listlike key, _check_indexing_error will raise\u001b[39;00m\n\u001b[1;32m   3657\u001b[0m     \u001b[38;5;66;03m#  InvalidIndexError. Otherwise we fall through and re-raise\u001b[39;00m\n\u001b[1;32m   3658\u001b[0m     \u001b[38;5;66;03m#  the TypeError.\u001b[39;00m\n\u001b[1;32m   3659\u001b[0m     \u001b[38;5;28mself\u001b[39m\u001b[38;5;241m.\u001b[39m_check_indexing_error(key)\n",
      "\u001b[0;31mKeyError\u001b[0m: 'y2'"
     ]
    }
   ],
   "source": [
    "plt.hist(train_set['y2'], bins=100)\n",
    "plt.show()\n",
    "\n",
    "plt.hist(train_set['Y2'], bins=100)\n",
    "plt.show()"
   ]
  },
  {
   "cell_type": "code",
   "execution_count": 51,
   "metadata": {},
   "outputs": [
    {
     "data": {
      "text/plain": [
       "Index(['time', 'sym', 'exch', 'Q1', 'Q2', 'X1', 'X10', 'X100', 'X101', 'X102',\n",
       "       ...\n",
       "       'X96', 'X97', 'X98', 'X99', 'Y1', 'Y2', 'day', 'afternoon', 'date_info',\n",
       "       'date'],\n",
       "      dtype='object', length=386)"
      ]
     },
     "execution_count": 51,
     "metadata": {},
     "output_type": "execute_result"
    }
   ],
   "source": [
    "train_set.columns"
   ]
  },
  {
   "cell_type": "code",
   "execution_count": 9,
   "metadata": {},
   "outputs": [],
   "source": [
    "### Create X and y set for each of training, validation, test\n",
    "columns_to_exclude = ['time', 'sym', 'exch', 'Q1', 'Q2', 'Y1', 'Y2', 'day', 'date_info', 'date']\n",
    "X_train_y2 = train_set.drop(columns = columns_to_exclude)\n",
    "y_train_y2 = train_set[['Y2']]\n",
    "\n",
    "X_val_y2 = val_set.drop(columns = columns_to_exclude)\n",
    "y_val_y2 = val_set[['Y2']]\n",
    "\n",
    "X_test_y2 = test_set.drop(columns = columns_to_exclude)\n",
    "y_test_y2 = test_set[['Y2']]\n",
    "\n",
    "### Save these locally as .parquet files\n",
    "save_dir = 'qr_takehome/Cleaned Data/Y2 Calibration/train_test_val'\n",
    "X_train_y2.to_parquet(os.path.join(save_dir, 'X_train_y2.parquet'))\n",
    "y_train_y2.to_parquet(os.path.join(save_dir, 'y_train_y2.parquet'))\n",
    "\n",
    "X_val_y2.to_parquet(os.path.join(save_dir, 'X_val_y2.parquet'))\n",
    "y_val_y2.to_parquet(os.path.join(save_dir, 'y_val_y2.parquet'))\n",
    "\n",
    "X_test_y2.to_parquet(os.path.join(save_dir, 'X_test_y2.parquet'))\n",
    "y_test_y2.to_parquet(os.path.join(save_dir, 'y_test_y2.parquet'))"
   ]
  },
  {
   "cell_type": "code",
   "execution_count": 3,
   "metadata": {},
   "outputs": [
    {
     "name": "stdout",
     "output_type": "stream",
     "text": [
      "Data loaded successfully:\n"
     ]
    }
   ],
   "source": [
    "### Loading the data in case of crashes \n",
    "import pandas as pd\n",
    "import os\n",
    "\n",
    "# Define the directory where the files are saved\n",
    "save_dir = 'qr_takehome/Cleaned Data/Y2 Calibration/train_test_val'\n",
    "\n",
    "# Load the .parquet files into their corresponding variables\n",
    "X_train_y2 = pd.read_parquet(os.path.join(save_dir, 'X_train_y2.parquet'))\n",
    "y_train_y2 = pd.read_parquet(os.path.join(save_dir, 'y_train_y2.parquet'))\n",
    "\n",
    "X_val_y2 = pd.read_parquet(os.path.join(save_dir, 'X_val_y2.parquet'))\n",
    "y_val_y2 = pd.read_parquet(os.path.join(save_dir, 'y_val_y2.parquet'))\n",
    "\n",
    "X_test_y2 = pd.read_parquet(os.path.join(save_dir, 'X_test_y2.parquet'))\n",
    "y_test_y2 = pd.read_parquet(os.path.join(save_dir, 'y_test_y2.parquet'))\n",
    "\n",
    "# Print to confirm the files are loaded correctly\n",
    "print('Data loaded successfully:')\n"
   ]
  },
  {
   "cell_type": "code",
   "execution_count": 4,
   "metadata": {},
   "outputs": [
    {
     "name": "stdout",
     "output_type": "stream",
     "text": [
      "X_train_y2 does not contain any NaN values.\n"
     ]
    }
   ],
   "source": [
    "import pandas as pd\n",
    "\n",
    "# Assume X_train_y2 is your DataFrame\n",
    "\n",
    "# Check for NaNs\n",
    "contains_nan = X_train_y2.isna().any().any()\n",
    "\n",
    "if contains_nan:\n",
    "    print(\"X_train_y2 contains NaN values.\")\n",
    "else:\n",
    "    print(\"X_train_y2 does not contain any NaN values.\")"
   ]
  },
  {
   "cell_type": "code",
   "execution_count": 28,
   "metadata": {},
   "outputs": [
    {
     "name": "stdout",
     "output_type": "stream",
     "text": [
      "afternoon    True\n",
      "dtype: bool\n"
     ]
    }
   ],
   "source": [
    "# Check for NaNs in each column\n",
    "nan_columns = X_train_y2.isna().any()\n",
    "\n",
    "# Print columns that contain NaNs\n",
    "print(nan_columns[nan_columns == True])\n"
   ]
  },
  {
   "cell_type": "code",
   "execution_count": 30,
   "metadata": {},
   "outputs": [
    {
     "name": "stdout",
     "output_type": "stream",
     "text": [
      "Number of NaN values in the 'afternoon' column: 0.3580384734516621\n"
     ]
    }
   ],
   "source": [
    "import pandas as pd\n",
    "\n",
    "# Assume X_train_y2 is your DataFrame\n",
    "\n",
    "# Count the number of NaNs in the 'afternoon' column\n",
    "nan_count_afternoon = X_train_y2['afternoon'].isna().sum()/X_train_y2.shape[0]\n",
    "\n",
    "print(f\"Number of NaN values in the 'afternoon' column: {nan_count_afternoon}\")\n"
   ]
  },
  {
   "cell_type": "code",
   "execution_count": 16,
   "metadata": {},
   "outputs": [],
   "source": [
    "### Calculating the correlation matrix for the training set\n",
    "df = pd.concat([X_train_y1[X_train_y1['afternoon'] == 0], y_train_y1[X_train_y1['afternoon'] == 0]], axis=1)"
   ]
  },
  {
   "cell_type": "code",
   "execution_count": 5,
   "metadata": {},
   "outputs": [
    {
     "data": {
      "text/plain": [
       "(3767637, 377)"
      ]
     },
     "execution_count": 5,
     "metadata": {},
     "output_type": "execute_result"
    }
   ],
   "source": [
    "df.shape"
   ]
  },
  {
   "cell_type": "code",
   "execution_count": 25,
   "metadata": {},
   "outputs": [],
   "source": [
    "temp = df[['X1', 'X2', 'X3']]"
   ]
  },
  {
   "cell_type": "code",
   "execution_count": 27,
   "metadata": {},
   "outputs": [
    {
     "name": "stdout",
     "output_type": "stream",
     "text": [
      "(3767637, 3)\n"
     ]
    }
   ],
   "source": [
    "print(temp.shape)"
   ]
  },
  {
   "cell_type": "code",
   "execution_count": 28,
   "metadata": {},
   "outputs": [
    {
     "data": {
      "text/plain": [
       "X1    0.009469\n",
       "X2   -0.023580\n",
       "X3   -0.010688\n",
       "dtype: float64"
      ]
     },
     "execution_count": 28,
     "metadata": {},
     "output_type": "execute_result"
    }
   ],
   "source": [
    "temp.corrwith(df['Y1'])"
   ]
  },
  {
   "cell_type": "code",
   "execution_count": 17,
   "metadata": {},
   "outputs": [],
   "source": [
    "correlations_with_y1 = df.corrwith(df['Y1'])"
   ]
  },
  {
   "cell_type": "code",
   "execution_count": 8,
   "metadata": {},
   "outputs": [
    {
     "data": {
      "image/png": "[encoded data removed]",
      "text/plain": [
       "<Figure size 640x480 with 1 Axes>"
      ]
     },
     "metadata": {},
     "output_type": "display_data"
    }
   ],
   "source": [
    "plt.hist(correlations_with_y1, bins=200)\n",
    "plt.show()"
   ]
  },
  {
   "cell_type": "code",
   "execution_count": 18,
   "metadata": {},
   "outputs": [
    {
     "name": "stdout",
     "output_type": "stream",
     "text": [
      "Y1     1.000000\n",
      "X1     0.027883\n",
      "X51    0.023336\n",
      "X50    0.022899\n",
      "X77    0.021257\n",
      "X3     0.020154\n",
      "X5     0.019694\n",
      "X49    0.018790\n",
      "X97    0.018777\n",
      "X67    0.017806\n",
      "X57    0.016641\n",
      "dtype: float64\n"
     ]
    }
   ],
   "source": [
    "# Sort the absolute correlations from greatest to smallest \n",
    "sorted_correlation = correlations_with_Y2.abs().sort_values(ascending=False)\n",
    "\n",
    "# Print the sorted correlations\n",
    "print(sorted_correlation[:11])"
   ]
  },
  {
   "cell_type": "code",
   "execution_count": 13,
   "metadata": {},
   "outputs": [
    {
     "data": {
      "image/png": "[encoded data removed]",
      "text/plain": [
       "<Figure size 640x480 with 1 Axes>"
      ]
     },
     "metadata": {},
     "output_type": "display_data"
    }
   ],
   "source": [
    "plt.scatter(X_train_y2['X375'], y_train_y2)\n",
    "plt.show()"
   ]
  },
  {
   "cell_type": "code",
   "execution_count": 19,
   "metadata": {},
   "outputs": [
    {
     "name": "stdout",
     "output_type": "stream",
     "text": [
      "Index(['X1', 'X50', 'X51', 'X77', 'afternoon'], dtype='object')\n"
     ]
    }
   ],
   "source": [
    "### Using the top ten variables with highest absolute correlation for linear regression + afternoon variable\n",
    "top_vars = sorted_correlation[1:5].index.union([\"afternoon\"])\n",
    "print(top_vars)"
   ]
  },
  {
   "cell_type": "code",
   "execution_count": 44,
   "metadata": {},
   "outputs": [
    {
     "data": {
      "text/html": [
       "<div>\n",
       "<style scoped>\n",
       "    .dataframe tbody tr th:only-of-type {\n",
       "        vertical-align: middle;\n",
       "    }\n",
       "\n",
       "    .dataframe tbody tr th {\n",
       "        vertical-align: top;\n",
       "    }\n",
       "\n",
       "    .dataframe thead th {\n",
       "        text-align: right;\n",
       "    }\n",
       "</style>\n",
       "<table border=\"1\" class=\"dataframe\">\n",
       "  <thead>\n",
       "    <tr style=\"text-align: right;\">\n",
       "      <th></th>\n",
       "      <th>X180</th>\n",
       "      <th>X181</th>\n",
       "      <th>X2</th>\n",
       "      <th>X206</th>\n",
       "      <th>X208</th>\n",
       "      <th>X209</th>\n",
       "      <th>X314</th>\n",
       "      <th>X375</th>\n",
       "      <th>X52</th>\n",
       "      <th>X53</th>\n",
       "      <th>afternoon</th>\n",
       "    </tr>\n",
       "  </thead>\n",
       "  <tbody>\n",
       "    <tr>\n",
       "      <th>22500</th>\n",
       "      <td>5.330081</td>\n",
       "      <td>5.322297</td>\n",
       "      <td>0.074757</td>\n",
       "      <td>3.778755</td>\n",
       "      <td>5.096995</td>\n",
       "      <td>5.070271</td>\n",
       "      <td>6.328077</td>\n",
       "      <td>-1.368652</td>\n",
       "      <td>-1.151528</td>\n",
       "      <td>-0.937603</td>\n",
       "      <td>0</td>\n",
       "    </tr>\n",
       "    <tr>\n",
       "      <th>22501</th>\n",
       "      <td>3.655391</td>\n",
       "      <td>3.860835</td>\n",
       "      <td>-0.255630</td>\n",
       "      <td>2.179250</td>\n",
       "      <td>4.173613</td>\n",
       "      <td>4.149567</td>\n",
       "      <td>5.201862</td>\n",
       "      <td>-1.715522</td>\n",
       "      <td>-1.157537</td>\n",
       "      <td>-0.940948</td>\n",
       "      <td>0</td>\n",
       "    </tr>\n",
       "    <tr>\n",
       "      <th>22502</th>\n",
       "      <td>4.151245</td>\n",
       "      <td>4.139648</td>\n",
       "      <td>-0.024195</td>\n",
       "      <td>1.705772</td>\n",
       "      <td>4.208780</td>\n",
       "      <td>4.184245</td>\n",
       "      <td>5.313017</td>\n",
       "      <td>-1.557903</td>\n",
       "      <td>-1.158205</td>\n",
       "      <td>-0.941456</td>\n",
       "      <td>0</td>\n",
       "    </tr>\n",
       "    <tr>\n",
       "      <th>22503</th>\n",
       "      <td>1.951987</td>\n",
       "      <td>2.045184</td>\n",
       "      <td>0.170417</td>\n",
       "      <td>-0.208096</td>\n",
       "      <td>2.739458</td>\n",
       "      <td>2.718543</td>\n",
       "      <td>3.446875</td>\n",
       "      <td>-1.798359</td>\n",
       "      <td>-1.167342</td>\n",
       "      <td>-0.949278</td>\n",
       "      <td>0</td>\n",
       "    </tr>\n",
       "    <tr>\n",
       "      <th>22504</th>\n",
       "      <td>3.005407</td>\n",
       "      <td>2.991332</td>\n",
       "      <td>0.661844</td>\n",
       "      <td>1.216650</td>\n",
       "      <td>3.159348</td>\n",
       "      <td>3.137560</td>\n",
       "      <td>4.123048</td>\n",
       "      <td>-1.537982</td>\n",
       "      <td>-1.169131</td>\n",
       "      <td>-0.950971</td>\n",
       "      <td>0</td>\n",
       "    </tr>\n",
       "    <tr>\n",
       "      <th>...</th>\n",
       "      <td>...</td>\n",
       "      <td>...</td>\n",
       "      <td>...</td>\n",
       "      <td>...</td>\n",
       "      <td>...</td>\n",
       "      <td>...</td>\n",
       "      <td>...</td>\n",
       "      <td>...</td>\n",
       "      <td>...</td>\n",
       "      <td>...</td>\n",
       "      <td>...</td>\n",
       "    </tr>\n",
       "    <tr>\n",
       "      <th>6704607</th>\n",
       "      <td>1.174463</td>\n",
       "      <td>0.829295</td>\n",
       "      <td>1.449846</td>\n",
       "      <td>0.975366</td>\n",
       "      <td>0.302038</td>\n",
       "      <td>0.373109</td>\n",
       "      <td>0.508821</td>\n",
       "      <td>0.779830</td>\n",
       "      <td>0.254435</td>\n",
       "      <td>0.461328</td>\n",
       "      <td>1</td>\n",
       "    </tr>\n",
       "    <tr>\n",
       "      <th>6704608</th>\n",
       "      <td>2.431186</td>\n",
       "      <td>2.228773</td>\n",
       "      <td>1.029207</td>\n",
       "      <td>2.959800</td>\n",
       "      <td>1.839759</td>\n",
       "      <td>1.912024</td>\n",
       "      <td>1.983755</td>\n",
       "      <td>0.705589</td>\n",
       "      <td>0.261921</td>\n",
       "      <td>0.465597</td>\n",
       "      <td>1</td>\n",
       "    </tr>\n",
       "    <tr>\n",
       "      <th>6704609</th>\n",
       "      <td>2.403258</td>\n",
       "      <td>2.331252</td>\n",
       "      <td>0.830843</td>\n",
       "      <td>3.230067</td>\n",
       "      <td>2.376310</td>\n",
       "      <td>2.461990</td>\n",
       "      <td>2.198237</td>\n",
       "      <td>0.593758</td>\n",
       "      <td>0.262813</td>\n",
       "      <td>0.464662</td>\n",
       "      <td>1</td>\n",
       "    </tr>\n",
       "    <tr>\n",
       "      <th>6704612</th>\n",
       "      <td>1.664578</td>\n",
       "      <td>1.850044</td>\n",
       "      <td>1.033812</td>\n",
       "      <td>2.201009</td>\n",
       "      <td>1.731888</td>\n",
       "      <td>1.718102</td>\n",
       "      <td>1.415897</td>\n",
       "      <td>0.900047</td>\n",
       "      <td>0.263485</td>\n",
       "      <td>0.467586</td>\n",
       "      <td>1</td>\n",
       "    </tr>\n",
       "    <tr>\n",
       "      <th>6704613</th>\n",
       "      <td>1.645457</td>\n",
       "      <td>1.828793</td>\n",
       "      <td>1.022025</td>\n",
       "      <td>1.841619</td>\n",
       "      <td>1.416738</td>\n",
       "      <td>1.400253</td>\n",
       "      <td>1.444549</td>\n",
       "      <td>0.852635</td>\n",
       "      <td>0.267594</td>\n",
       "      <td>0.473939</td>\n",
       "      <td>1</td>\n",
       "    </tr>\n",
       "  </tbody>\n",
       "</table>\n",
       "<p>3767637 rows × 11 columns</p>\n",
       "</div>"
      ],
      "text/plain": [
       "             X180      X181        X2      X206      X208      X209      X314  \\\n",
       "22500    5.330081  5.322297  0.074757  3.778755  5.096995  5.070271  6.328077   \n",
       "22501    3.655391  3.860835 -0.255630  2.179250  4.173613  4.149567  5.201862   \n",
       "22502    4.151245  4.139648 -0.024195  1.705772  4.208780  4.184245  5.313017   \n",
       "22503    1.951987  2.045184  0.170417 -0.208096  2.739458  2.718543  3.446875   \n",
       "22504    3.005407  2.991332  0.661844  1.216650  3.159348  3.137560  4.123048   \n",
       "...           ...       ...       ...       ...       ...       ...       ...   \n",
       "6704607  1.174463  0.829295  1.449846  0.975366  0.302038  0.373109  0.508821   \n",
       "6704608  2.431186  2.228773  1.029207  2.959800  1.839759  1.912024  1.983755   \n",
       "6704609  2.403258  2.331252  0.830843  3.230067  2.376310  2.461990  2.198237   \n",
       "6704612  1.664578  1.850044  1.033812  2.201009  1.731888  1.718102  1.415897   \n",
       "6704613  1.645457  1.828793  1.022025  1.841619  1.416738  1.400253  1.444549   \n",
       "\n",
       "             X375       X52       X53  afternoon  \n",
       "22500   -1.368652 -1.151528 -0.937603          0  \n",
       "22501   -1.715522 -1.157537 -0.940948          0  \n",
       "22502   -1.557903 -1.158205 -0.941456          0  \n",
       "22503   -1.798359 -1.167342 -0.949278          0  \n",
       "22504   -1.537982 -1.169131 -0.950971          0  \n",
       "...           ...       ...       ...        ...  \n",
       "6704607  0.779830  0.254435  0.461328          1  \n",
       "6704608  0.705589  0.261921  0.465597          1  \n",
       "6704609  0.593758  0.262813  0.464662          1  \n",
       "6704612  0.900047  0.263485  0.467586          1  \n",
       "6704613  0.852635  0.267594  0.473939          1  \n",
       "\n",
       "[3767637 rows x 11 columns]"
      ]
     },
     "execution_count": 44,
     "metadata": {},
     "output_type": "execute_result"
    }
   ],
   "source": [
    "X_train_y1[top_vars]"
   ]
  },
  {
   "cell_type": "code",
   "execution_count": 6,
   "metadata": {},
   "outputs": [
    {
     "name": "stdout",
     "output_type": "stream",
     "text": [
      "X1\n",
      "X10\n",
      "X100\n",
      "X101\n",
      "X102\n",
      "X103\n",
      "X104\n",
      "X105\n",
      "X106\n",
      "X107\n",
      "X108\n",
      "X109\n",
      "X11\n",
      "X110\n",
      "X111\n",
      "X112\n",
      "X113\n",
      "X114\n",
      "X115\n",
      "X116\n",
      "X117\n",
      "X118\n",
      "X12\n",
      "X122\n",
      "X123\n",
      "X124\n",
      "X125\n",
      "X126\n",
      "X127\n",
      "X128\n",
      "X129\n",
      "X13\n",
      "X130\n",
      "X131\n",
      "X132\n",
      "X133\n",
      "X134\n",
      "X135\n",
      "X136\n",
      "X137\n",
      "X138\n",
      "X14\n",
      "X142\n",
      "X143\n",
      "X144\n",
      "X145\n",
      "X146\n",
      "X147\n",
      "X148\n",
      "X149\n",
      "X15\n",
      "X150\n",
      "X151\n",
      "X152\n",
      "X153\n",
      "X154\n",
      "X155\n",
      "X156\n",
      "X157\n",
      "X158\n",
      "X159\n",
      "X16\n",
      "X160\n",
      "X161\n",
      "X162\n",
      "X163\n",
      "X164\n",
      "X165\n",
      "X17\n",
      "X170\n",
      "X171\n",
      "X172\n",
      "X173\n",
      "X18\n",
      "X182\n",
      "X183\n",
      "X184\n",
      "X185\n",
      "X186\n",
      "X187\n",
      "X188\n",
      "X189\n",
      "X19\n",
      "X190\n",
      "X191\n",
      "X192\n",
      "X193\n",
      "X198\n",
      "X199\n",
      "X2\n",
      "X20\n",
      "X200\n",
      "X201\n",
      "X21\n",
      "X210\n",
      "X211\n",
      "X212\n",
      "X213\n",
      "X214\n",
      "X215\n",
      "X216\n",
      "X217\n",
      "X218\n",
      "X219\n",
      "X22\n",
      "X220\n",
      "X221\n",
      "X226\n",
      "X227\n",
      "X228\n",
      "X229\n",
      "X23\n",
      "X230\n",
      "X231\n",
      "X232\n",
      "X233\n",
      "X234\n",
      "X235\n",
      "X236\n",
      "X237\n",
      "X238\n",
      "X239\n",
      "X24\n",
      "X240\n",
      "X241\n",
      "X242\n",
      "X243\n",
      "X244\n",
      "X245\n",
      "X246\n",
      "X247\n",
      "X248\n",
      "X249\n",
      "X25\n",
      "X250\n",
      "X251\n",
      "X252\n",
      "X253\n",
      "X254\n",
      "X255\n",
      "X256\n",
      "X257\n",
      "X258\n",
      "X259\n",
      "X26\n",
      "X260\n",
      "X261\n",
      "X262\n",
      "X263\n",
      "X264\n",
      "X265\n",
      "X266\n",
      "X267\n",
      "X268\n",
      "X269\n",
      "X27\n",
      "X270\n",
      "X271\n",
      "X272\n",
      "X273\n",
      "X274\n",
      "X275\n",
      "X276\n",
      "X277\n",
      "X278\n",
      "X279\n",
      "X28\n",
      "X280\n",
      "X281\n",
      "X282\n",
      "X283\n",
      "X284\n",
      "X285\n",
      "X286\n",
      "X287\n",
      "X288\n",
      "X289\n",
      "X29\n",
      "X290\n",
      "X291\n",
      "X292\n",
      "X293\n",
      "X294\n",
      "X295\n",
      "X296\n",
      "X297\n",
      "X298\n",
      "X299\n",
      "X3\n",
      "X30\n",
      "X300\n",
      "X301\n",
      "X302\n",
      "X303\n",
      "X304\n",
      "X305\n",
      "X306\n",
      "X307\n",
      "X308\n",
      "X309\n",
      "X31\n",
      "X310\n",
      "X311\n",
      "X312\n",
      "X315\n",
      "X317\n",
      "X318\n",
      "X319\n",
      "X32\n",
      "X320\n",
      "X321\n",
      "X322\n",
      "X323\n",
      "X324\n",
      "X325\n",
      "X326\n",
      "X327\n",
      "X328\n",
      "X329\n",
      "X33\n",
      "X330\n",
      "X331\n",
      "X332\n",
      "X333\n",
      "X334\n",
      "X335\n",
      "X336\n",
      "X337\n",
      "X338\n",
      "X339\n",
      "X34\n",
      "X340\n",
      "X341\n",
      "X342\n",
      "X343\n",
      "X344\n",
      "X345\n",
      "X346\n",
      "X347\n",
      "X348\n",
      "X349\n",
      "X35\n",
      "X350\n",
      "X351\n",
      "X352\n",
      "X353\n",
      "X354\n",
      "X355\n",
      "X356\n",
      "X357\n",
      "X358\n",
      "X359\n",
      "X36\n",
      "X360\n",
      "X361\n",
      "X362\n",
      "X363\n",
      "X364\n",
      "X365\n",
      "X366\n",
      "X367\n",
      "X368\n",
      "X369\n",
      "X37\n",
      "X370\n",
      "X371\n",
      "X374\n",
      "X38\n",
      "X39\n",
      "X4\n",
      "X40\n",
      "X41\n",
      "X42\n",
      "X43\n",
      "X44\n",
      "X45\n",
      "X46\n",
      "X47\n",
      "X48\n",
      "X49\n",
      "X5\n",
      "X50\n",
      "X51\n",
      "X52\n",
      "X53\n",
      "X54\n",
      "X55\n",
      "X56\n",
      "X57\n",
      "X58\n",
      "X59\n",
      "X6\n",
      "X60\n",
      "X61\n",
      "X62\n",
      "X63\n",
      "X64\n",
      "X65\n",
      "X66\n",
      "X67\n",
      "X68\n",
      "X69\n",
      "X7\n",
      "X70\n",
      "X71\n",
      "X72\n",
      "X73\n",
      "X74\n",
      "X75\n",
      "X76\n",
      "X77\n",
      "X78\n",
      "X79\n",
      "X8\n",
      "X80\n",
      "X81\n",
      "X82\n",
      "X83\n",
      "X84\n",
      "X85\n",
      "X86\n",
      "X87\n",
      "X88\n",
      "X89\n",
      "X9\n",
      "X90\n",
      "X91\n",
      "X92\n",
      "X93\n",
      "X94\n",
      "X95\n",
      "X96\n",
      "X97\n",
      "X98\n",
      "X99\n",
      "afternoon\n",
      "Columns with correlation less than 0.3 to X174: ['X1', 'X10', 'X100', 'X101', 'X102', 'X103', 'X104', 'X105', 'X106', 'X107', 'X108', 'X109', 'X11', 'X110', 'X111', 'X112', 'X113', 'X114', 'X115', 'X116', 'X117', 'X118', 'X12', 'X122', 'X123', 'X124', 'X125', 'X126', 'X127', 'X128', 'X129', 'X13', 'X130', 'X131', 'X132', 'X133', 'X134', 'X135', 'X136', 'X137', 'X138', 'X14', 'X142', 'X143', 'X144', 'X145', 'X146', 'X147', 'X148', 'X149', 'X15', 'X150', 'X151', 'X152', 'X153', 'X154', 'X155', 'X156', 'X157', 'X158', 'X159', 'X16', 'X160', 'X161', 'X162', 'X163', 'X164', 'X165', 'X17', 'X170', 'X171', 'X172', 'X173', 'X18', 'X182', 'X183', 'X184', 'X185', 'X186', 'X187', 'X188', 'X189', 'X19', 'X190', 'X191', 'X192', 'X193', 'X198', 'X199', 'X2', 'X20', 'X200', 'X201', 'X21', 'X210', 'X211', 'X212', 'X213', 'X214', 'X215', 'X216', 'X217', 'X218', 'X219', 'X22', 'X220', 'X221', 'X226', 'X227', 'X228', 'X229', 'X23', 'X230', 'X231', 'X232', 'X233', 'X234', 'X235', 'X236', 'X237', 'X238', 'X239', 'X24', 'X240', 'X241', 'X242', 'X243', 'X244', 'X245', 'X246', 'X247', 'X248', 'X249', 'X25', 'X250', 'X251', 'X252', 'X253', 'X254', 'X255', 'X256', 'X257', 'X258', 'X259', 'X26', 'X260', 'X261', 'X262', 'X263', 'X264', 'X265', 'X266', 'X267', 'X268', 'X269', 'X27', 'X270', 'X271', 'X272', 'X273', 'X274', 'X275', 'X276', 'X277', 'X278', 'X279', 'X28', 'X280', 'X281', 'X282', 'X283', 'X284', 'X285', 'X286', 'X287', 'X288', 'X289', 'X29', 'X290', 'X291', 'X292', 'X293', 'X294', 'X295', 'X296', 'X297', 'X298', 'X299', 'X3', 'X30', 'X300', 'X301', 'X302', 'X303', 'X304', 'X305', 'X306', 'X307', 'X308', 'X309', 'X31', 'X310', 'X311', 'X312', 'X315', 'X317', 'X318', 'X319', 'X32', 'X320', 'X321', 'X322', 'X323', 'X324', 'X325', 'X326', 'X327', 'X328', 'X329', 'X33', 'X330', 'X331', 'X332', 'X333', 'X334', 'X335', 'X336', 'X337', 'X338', 'X339', 'X34', 'X340', 'X341', 'X342', 'X343', 'X344', 'X345', 'X346', 'X347', 'X348', 'X349', 'X35', 'X350', 'X351', 'X352', 'X353', 'X354', 'X355', 'X356', 'X357', 'X358', 'X359', 'X36', 'X360', 'X361', 'X362', 'X363', 'X364', 'X365', 'X366', 'X367', 'X368', 'X369', 'X37', 'X370', 'X371', 'X374', 'X38', 'X39', 'X4', 'X40', 'X41', 'X42', 'X43', 'X44', 'X45', 'X46', 'X47', 'X48', 'X49', 'X5', 'X50', 'X51', 'X52', 'X53', 'X54', 'X55', 'X56', 'X57', 'X58', 'X59', 'X6', 'X60', 'X61', 'X62', 'X63', 'X64', 'X65', 'X66', 'X67', 'X68', 'X69', 'X7', 'X70', 'X71', 'X72', 'X73', 'X74', 'X75', 'X76', 'X77', 'X78', 'X79', 'X8', 'X80', 'X81', 'X82', 'X83', 'X84', 'X85', 'X86', 'X87', 'X88', 'X89', 'X9', 'X90', 'X91', 'X92', 'X93', 'X94', 'X95', 'X96', 'X97', 'X98', 'X99', 'afternoon']\n"
     ]
    }
   ],
   "source": [
    "# Initialize an empty list to store the names of columns with correlation less than 0.3\n",
    "low_corr_columns = []\n",
    "\n",
    "# Loop through each column in the DataFrame\n",
    "for column in X_train_y1.columns:\n",
    "    # Skip the comparison with itself\n",
    "    if column != 'X174':\n",
    "        # Calculate the correlation with 'X174'\n",
    "        corr = X_train_y1[column].corr(X_train_y1['X174'])\n",
    "        # Check if the correlation is less than 0.3\n",
    "        if abs(corr) < 0.3:\n",
    "            # If yes, append the column name to the list\n",
    "            print(column)\n",
    "            low_corr_columns.append(column)\n",
    "\n",
    "print('Columns with correlation less than 0.3 to X174:', low_corr_columns)\n",
    "#X_train_y1['X175'].corr(y_train_y1)"
   ]
  },
  {
   "cell_type": "code",
   "execution_count": 95,
   "metadata": {},
   "outputs": [
    {
     "name": "stdout",
     "output_type": "stream",
     "text": [
      "X10\n",
      "X100\n",
      "X11\n",
      "X110\n",
      "X114\n",
      "X116\n",
      "X118\n",
      "X12\n",
      "X120\n",
      "X122\n",
      "X126\n",
      "X127\n",
      "X13\n",
      "X130\n",
      "X138\n",
      "X14\n",
      "X140\n",
      "X142\n",
      "X143\n",
      "X144\n",
      "X146\n",
      "X147\n",
      "X148\n",
      "X149\n",
      "X15\n",
      "X150\n",
      "X151\n",
      "X152\n",
      "X153\n",
      "X154\n",
      "X155\n",
      "X156\n",
      "X157\n",
      "X158\n",
      "X16\n",
      "X160\n",
      "X166\n",
      "X17\n",
      "X170\n",
      "X174\n",
      "X18\n",
      "X180\n",
      "X182\n",
      "X19\n",
      "X190\n",
      "X194\n",
      "X2\n",
      "X20\n",
      "X200\n",
      "X202\n",
      "X21\n",
      "X210\n",
      "X22\n",
      "X220\n",
      "X222\n",
      "X226\n",
      "X229\n",
      "X23\n",
      "X230\n",
      "X235\n",
      "X238\n",
      "X24\n",
      "X240\n",
      "X242\n",
      "X25\n",
      "X250\n",
      "X254\n",
      "X272\n",
      "X276\n",
      "X28\n",
      "X280\n",
      "X29\n",
      "X290\n",
      "X3\n",
      "X30\n",
      "X300\n",
      "X31\n",
      "X310\n",
      "X313\n",
      "X315\n",
      "X316\n",
      "X317\n",
      "X32\n",
      "X320\n",
      "X33\n",
      "X330\n",
      "X335\n",
      "X34\n",
      "X340\n",
      "X35\n",
      "X350\n",
      "X351\n",
      "X36\n",
      "X360\n",
      "X37\n",
      "X370\n",
      "X371\n",
      "X372\n",
      "X374\n",
      "X375\n",
      "X38\n",
      "X4\n",
      "X40\n",
      "X41\n",
      "X42\n",
      "X43\n",
      "X44\n",
      "X45\n",
      "X46\n",
      "X47\n",
      "X48\n",
      "X49\n",
      "X5\n",
      "X52\n",
      "X54\n",
      "X6\n",
      "X60\n",
      "X7\n",
      "X70\n",
      "X74\n",
      "X8\n",
      "X80\n",
      "X84\n",
      "X9\n",
      "X90\n",
      "afternoon\n"
     ]
    }
   ],
   "source": [
    "uncorrelated_fts = ['X1']\n",
    "currCol = 'X1'\n",
    "corr = ''\n",
    "for column in X_train_y1.columns:\n",
    "    corr = X_train_y1[column].corr(X_train_y1[currCol])\n",
    "    # Check if the correlation is less than 0.3\n",
    "    if abs(corr) < 0.3:\n",
    "        # If yes, append the column name to the list\n",
    "        print(column)\n",
    "        uncorrelated_fts.append(column)\n",
    "        currCol = column\n",
    "if currCol not in uncorrelated_fts:\n",
    "    uncorrelated_fts.append(currCol)"
   ]
  },
  {
   "cell_type": "code",
   "execution_count": 96,
   "metadata": {},
   "outputs": [
    {
     "data": {
      "text/plain": [
       "127"
      ]
     },
     "execution_count": 96,
     "metadata": {},
     "output_type": "execute_result"
    }
   ],
   "source": [
    "len(uncorrelated_fts)"
   ]
  },
  {
   "cell_type": "code",
   "execution_count": 14,
   "metadata": {},
   "outputs": [
    {
     "data": {
      "text/plain": [
       "0.031104381670329896"
      ]
     },
     "execution_count": 14,
     "metadata": {},
     "output_type": "execute_result"
    }
   ],
   "source": [
    "#print(len(low_corr_columns))\n",
    "#X_train_y1[uncorrelated_fts[0]].corr(X_train_y1[uncorrelated_fts[7]])\n",
    "X_train_y2['X144'].corr(X_train_y2['X156'])"
   ]
  },
  {
   "cell_type": "code",
   "execution_count": 16,
   "metadata": {},
   "outputs": [
    {
     "name": "stderr",
     "output_type": "stream",
     "text": [
      "/Library/Frameworks/Python.framework/Versions/3.11/lib/python3.11/site-packages/sklearn/utils/validation.py:1143: DataConversionWarning: A column-vector y was passed when a 1d array was expected. Please change the shape of y to (n_samples, ), for example using ravel().\n",
      "  y = column_or_1d(y, warn=True)\n"
     ]
    },
    {
     "name": "stdout",
     "output_type": "stream",
     "text": [
      "Y1    1.770231\n",
      "dtype: float64\n"
     ]
    }
   ],
   "source": [
    "from sklearn.feature_selection import mutual_info_regression\n",
    "\n",
    "# Compute the mutual information\n",
    "mi = mutual_info_regression(train_set[['Y1']], train_set[['Y2']])\n",
    "\n",
    "# Make a Series for the results\n",
    "mi_series = pd.Series(mi, index=train_set[['Y1']].columns)\n",
    "\n",
    "print(mi_series)"
   ]
  },
  {
   "cell_type": "code",
   "execution_count": 21,
   "metadata": {},
   "outputs": [
    {
     "data": {
      "text/plain": [
       "0.9557915833664252"
      ]
     },
     "execution_count": 21,
     "metadata": {},
     "output_type": "execute_result"
    }
   ],
   "source": [
    "np.corrcoef(y_pred, y)[0][1]"
   ]
  },
  {
   "cell_type": "code",
   "execution_count": 22,
   "metadata": {},
   "outputs": [
    {
     "name": "stdout",
     "output_type": "stream",
     "text": [
      "MSE is: 23.366007\n",
      "corr is: 0.9557915833664252\n"
     ]
    }
   ],
   "source": [
    "from sklearn.linear_model import LinearRegression\n",
    "from sklearn.metrics import mean_squared_error\n",
    "\n",
    "# Extracting Y1 as the predictor and Y2 as the target\n",
    "X = train_set[['Y1']]  # double brackets to keep it as a DataFrame\n",
    "y = train_set['Y2']\n",
    "\n",
    "\n",
    "# Initialize the Linear Regression model\n",
    "model = LinearRegression()\n",
    "\n",
    "# Fit the model\n",
    "model.fit(X, y)\n",
    "\n",
    "y_pred = model.predict(X)\n",
    "mse = mean_squared_error(y_pred, y)\n",
    "corry1y2 = np.corrcoef(y_pred, y)[0][1]\n",
    "print('MSE is:', mse)\n",
    "print('corr is:', corry1y2)\n",
    "\n"
   ]
  },
  {
   "cell_type": "code",
   "execution_count": 107,
   "metadata": {},
   "outputs": [],
   "source": [
    "### Get the correlation matrix with these 127 features\n",
    "\n",
    "init_uncorr_feats = pd.Index(uncorrelated_fts)\n",
    "\n",
    "corr_matrix = X_train_y1[init_uncorr_feats].corr().abs()"
   ]
  },
  {
   "cell_type": "code",
   "execution_count": 110,
   "metadata": {},
   "outputs": [
    {
     "name": "stdout",
     "output_type": "stream",
     "text": [
      "Uncorrelated columns: Index(['X1', 'X10', 'X110', 'X114', 'X116', 'X118', 'X12', 'X127', 'X142',\n",
      "       'X143', 'X146', 'X147', 'X166', 'X20', 'X254', 'X335', 'X372', 'X40',\n",
      "       'X44', 'X45', 'X49', 'X74', 'afternoon'],\n",
      "      dtype='object')\n"
     ]
    }
   ],
   "source": [
    "# Initialize a list to hold columns to drop\n",
    "cols_to_drop = set()\n",
    "\n",
    "# Iterate over the columns of the correlation matrix\n",
    "for i in range(len(corr_matrix.columns)):\n",
    "    for j in range(i):\n",
    "        # If the absolute correlation value is high, add one of them to the set of columns to drop\n",
    "        if corr_matrix.iloc[i, j] >= 0.3 and corr_matrix.columns[j] not in cols_to_drop:\n",
    "            colname = corr_matrix.columns[i]  # getting the name of the column\n",
    "            cols_to_drop.add(colname)\n",
    "\n",
    "# Now cols_to_drop contains the names of columns to drop\n",
    "# Drop the highly correlated columns\n",
    "final_unc_fts = X_train_y1[uncorrelated_fts].drop(columns=cols_to_drop).columns\n",
    "\n",
    "print(f\"Uncorrelated columns: {final_unc_fts}\")"
   ]
  },
  {
   "cell_type": "code",
   "execution_count": 9,
   "metadata": {},
   "outputs": [],
   "source": [
    "final_unc_fts = ['X1', 'X10', 'X110', 'X114', 'X116', 'X118', 'X12', 'X127', 'X142',\n",
    "       'X143', 'X146', 'X147', 'X166', 'X20', 'X254', 'X335', 'X372', 'X40',\n",
    "       'X44', 'X45', 'X49', 'X74', 'afternoon']"
   ]
  },
  {
   "cell_type": "code",
   "execution_count": 67,
   "metadata": {},
   "outputs": [
    {
     "name": "stderr",
     "output_type": "stream",
     "text": [
      "/Library/Frameworks/Python.framework/Versions/3.11/lib/python3.11/site-packages/sklearn/utils/validation.py:1143: DataConversionWarning: A column-vector y was passed when a 1d array was expected. Please change the shape of y to (n_samples, ), for example using ravel().\n",
      "  y = column_or_1d(y, warn=True)\n"
     ]
    },
    {
     "name": "stdout",
     "output_type": "stream",
     "text": [
      "X1 X1    0.018423\n",
      "dtype: float64\n"
     ]
    },
    {
     "name": "stderr",
     "output_type": "stream",
     "text": [
      "/Library/Frameworks/Python.framework/Versions/3.11/lib/python3.11/site-packages/sklearn/utils/validation.py:1143: DataConversionWarning: A column-vector y was passed when a 1d array was expected. Please change the shape of y to (n_samples, ), for example using ravel().\n",
      "  y = column_or_1d(y, warn=True)\n"
     ]
    },
    {
     "name": "stdout",
     "output_type": "stream",
     "text": [
      "X10 X10    0.028155\n",
      "dtype: float64\n"
     ]
    },
    {
     "name": "stderr",
     "output_type": "stream",
     "text": [
      "/Library/Frameworks/Python.framework/Versions/3.11/lib/python3.11/site-packages/sklearn/utils/validation.py:1143: DataConversionWarning: A column-vector y was passed when a 1d array was expected. Please change the shape of y to (n_samples, ), for example using ravel().\n",
      "  y = column_or_1d(y, warn=True)\n"
     ]
    },
    {
     "name": "stdout",
     "output_type": "stream",
     "text": [
      "X110 X110    0.018046\n",
      "dtype: float64\n"
     ]
    },
    {
     "name": "stderr",
     "output_type": "stream",
     "text": [
      "/Library/Frameworks/Python.framework/Versions/3.11/lib/python3.11/site-packages/sklearn/utils/validation.py:1143: DataConversionWarning: A column-vector y was passed when a 1d array was expected. Please change the shape of y to (n_samples, ), for example using ravel().\n",
      "  y = column_or_1d(y, warn=True)\n"
     ]
    },
    {
     "name": "stdout",
     "output_type": "stream",
     "text": [
      "X114 X114    0.073591\n",
      "dtype: float64\n"
     ]
    },
    {
     "name": "stderr",
     "output_type": "stream",
     "text": [
      "/Library/Frameworks/Python.framework/Versions/3.11/lib/python3.11/site-packages/sklearn/utils/validation.py:1143: DataConversionWarning: A column-vector y was passed when a 1d array was expected. Please change the shape of y to (n_samples, ), for example using ravel().\n",
      "  y = column_or_1d(y, warn=True)\n"
     ]
    },
    {
     "name": "stdout",
     "output_type": "stream",
     "text": [
      "X116 X116    0.077575\n",
      "dtype: float64\n"
     ]
    },
    {
     "name": "stderr",
     "output_type": "stream",
     "text": [
      "/Library/Frameworks/Python.framework/Versions/3.11/lib/python3.11/site-packages/sklearn/utils/validation.py:1143: DataConversionWarning: A column-vector y was passed when a 1d array was expected. Please change the shape of y to (n_samples, ), for example using ravel().\n",
      "  y = column_or_1d(y, warn=True)\n"
     ]
    },
    {
     "name": "stdout",
     "output_type": "stream",
     "text": [
      "X118 X118    0.110019\n",
      "dtype: float64\n"
     ]
    },
    {
     "name": "stderr",
     "output_type": "stream",
     "text": [
      "/Library/Frameworks/Python.framework/Versions/3.11/lib/python3.11/site-packages/sklearn/utils/validation.py:1143: DataConversionWarning: A column-vector y was passed when a 1d array was expected. Please change the shape of y to (n_samples, ), for example using ravel().\n",
      "  y = column_or_1d(y, warn=True)\n"
     ]
    },
    {
     "name": "stdout",
     "output_type": "stream",
     "text": [
      "X12 X12    0.012434\n",
      "dtype: float64\n"
     ]
    },
    {
     "name": "stderr",
     "output_type": "stream",
     "text": [
      "/Library/Frameworks/Python.framework/Versions/3.11/lib/python3.11/site-packages/sklearn/utils/validation.py:1143: DataConversionWarning: A column-vector y was passed when a 1d array was expected. Please change the shape of y to (n_samples, ), for example using ravel().\n",
      "  y = column_or_1d(y, warn=True)\n"
     ]
    },
    {
     "name": "stdout",
     "output_type": "stream",
     "text": [
      "X127 X127    0.069064\n",
      "dtype: float64\n"
     ]
    },
    {
     "name": "stderr",
     "output_type": "stream",
     "text": [
      "/Library/Frameworks/Python.framework/Versions/3.11/lib/python3.11/site-packages/sklearn/utils/validation.py:1143: DataConversionWarning: A column-vector y was passed when a 1d array was expected. Please change the shape of y to (n_samples, ), for example using ravel().\n",
      "  y = column_or_1d(y, warn=True)\n"
     ]
    },
    {
     "name": "stdout",
     "output_type": "stream",
     "text": [
      "X142 X142    0.927242\n",
      "dtype: float64\n"
     ]
    },
    {
     "name": "stderr",
     "output_type": "stream",
     "text": [
      "/Library/Frameworks/Python.framework/Versions/3.11/lib/python3.11/site-packages/sklearn/utils/validation.py:1143: DataConversionWarning: A column-vector y was passed when a 1d array was expected. Please change the shape of y to (n_samples, ), for example using ravel().\n",
      "  y = column_or_1d(y, warn=True)\n"
     ]
    },
    {
     "name": "stdout",
     "output_type": "stream",
     "text": [
      "X143 X143    4.498024\n",
      "dtype: float64\n"
     ]
    },
    {
     "name": "stderr",
     "output_type": "stream",
     "text": [
      "/Library/Frameworks/Python.framework/Versions/3.11/lib/python3.11/site-packages/sklearn/utils/validation.py:1143: DataConversionWarning: A column-vector y was passed when a 1d array was expected. Please change the shape of y to (n_samples, ), for example using ravel().\n",
      "  y = column_or_1d(y, warn=True)\n"
     ]
    },
    {
     "name": "stdout",
     "output_type": "stream",
     "text": [
      "X146 X146    0.225316\n",
      "dtype: float64\n"
     ]
    },
    {
     "name": "stderr",
     "output_type": "stream",
     "text": [
      "/Library/Frameworks/Python.framework/Versions/3.11/lib/python3.11/site-packages/sklearn/utils/validation.py:1143: DataConversionWarning: A column-vector y was passed when a 1d array was expected. Please change the shape of y to (n_samples, ), for example using ravel().\n",
      "  y = column_or_1d(y, warn=True)\n"
     ]
    },
    {
     "name": "stdout",
     "output_type": "stream",
     "text": [
      "X147 X147    1.927353\n",
      "dtype: float64\n"
     ]
    },
    {
     "name": "stderr",
     "output_type": "stream",
     "text": [
      "/Library/Frameworks/Python.framework/Versions/3.11/lib/python3.11/site-packages/sklearn/utils/validation.py:1143: DataConversionWarning: A column-vector y was passed when a 1d array was expected. Please change the shape of y to (n_samples, ), for example using ravel().\n",
      "  y = column_or_1d(y, warn=True)\n"
     ]
    },
    {
     "name": "stdout",
     "output_type": "stream",
     "text": [
      "X166 X166    0.017658\n",
      "dtype: float64\n"
     ]
    },
    {
     "name": "stderr",
     "output_type": "stream",
     "text": [
      "/Library/Frameworks/Python.framework/Versions/3.11/lib/python3.11/site-packages/sklearn/utils/validation.py:1143: DataConversionWarning: A column-vector y was passed when a 1d array was expected. Please change the shape of y to (n_samples, ), for example using ravel().\n",
      "  y = column_or_1d(y, warn=True)\n"
     ]
    },
    {
     "name": "stdout",
     "output_type": "stream",
     "text": [
      "X20 X20    0.00383\n",
      "dtype: float64\n"
     ]
    },
    {
     "name": "stderr",
     "output_type": "stream",
     "text": [
      "/Library/Frameworks/Python.framework/Versions/3.11/lib/python3.11/site-packages/sklearn/utils/validation.py:1143: DataConversionWarning: A column-vector y was passed when a 1d array was expected. Please change the shape of y to (n_samples, ), for example using ravel().\n",
      "  y = column_or_1d(y, warn=True)\n"
     ]
    },
    {
     "name": "stdout",
     "output_type": "stream",
     "text": [
      "X254 X254    0.072644\n",
      "dtype: float64\n"
     ]
    },
    {
     "name": "stderr",
     "output_type": "stream",
     "text": [
      "/Library/Frameworks/Python.framework/Versions/3.11/lib/python3.11/site-packages/sklearn/utils/validation.py:1143: DataConversionWarning: A column-vector y was passed when a 1d array was expected. Please change the shape of y to (n_samples, ), for example using ravel().\n",
      "  y = column_or_1d(y, warn=True)\n"
     ]
    },
    {
     "name": "stdout",
     "output_type": "stream",
     "text": [
      "X335 X335    0.071008\n",
      "dtype: float64\n"
     ]
    },
    {
     "name": "stderr",
     "output_type": "stream",
     "text": [
      "/Library/Frameworks/Python.framework/Versions/3.11/lib/python3.11/site-packages/sklearn/utils/validation.py:1143: DataConversionWarning: A column-vector y was passed when a 1d array was expected. Please change the shape of y to (n_samples, ), for example using ravel().\n",
      "  y = column_or_1d(y, warn=True)\n"
     ]
    },
    {
     "name": "stdout",
     "output_type": "stream",
     "text": [
      "X372 X372    0.073079\n",
      "dtype: float64\n"
     ]
    },
    {
     "name": "stderr",
     "output_type": "stream",
     "text": [
      "/Library/Frameworks/Python.framework/Versions/3.11/lib/python3.11/site-packages/sklearn/utils/validation.py:1143: DataConversionWarning: A column-vector y was passed when a 1d array was expected. Please change the shape of y to (n_samples, ), for example using ravel().\n",
      "  y = column_or_1d(y, warn=True)\n"
     ]
    },
    {
     "name": "stdout",
     "output_type": "stream",
     "text": [
      "X40 X40    0.075312\n",
      "dtype: float64\n"
     ]
    },
    {
     "name": "stderr",
     "output_type": "stream",
     "text": [
      "/Library/Frameworks/Python.framework/Versions/3.11/lib/python3.11/site-packages/sklearn/utils/validation.py:1143: DataConversionWarning: A column-vector y was passed when a 1d array was expected. Please change the shape of y to (n_samples, ), for example using ravel().\n",
      "  y = column_or_1d(y, warn=True)\n"
     ]
    },
    {
     "name": "stdout",
     "output_type": "stream",
     "text": [
      "X44 X44    0.096382\n",
      "dtype: float64\n"
     ]
    },
    {
     "name": "stderr",
     "output_type": "stream",
     "text": [
      "/Library/Frameworks/Python.framework/Versions/3.11/lib/python3.11/site-packages/sklearn/utils/validation.py:1143: DataConversionWarning: A column-vector y was passed when a 1d array was expected. Please change the shape of y to (n_samples, ), for example using ravel().\n",
      "  y = column_or_1d(y, warn=True)\n"
     ]
    },
    {
     "name": "stdout",
     "output_type": "stream",
     "text": [
      "X45 X45    0.178705\n",
      "dtype: float64\n"
     ]
    },
    {
     "name": "stderr",
     "output_type": "stream",
     "text": [
      "/Library/Frameworks/Python.framework/Versions/3.11/lib/python3.11/site-packages/sklearn/utils/validation.py:1143: DataConversionWarning: A column-vector y was passed when a 1d array was expected. Please change the shape of y to (n_samples, ), for example using ravel().\n",
      "  y = column_or_1d(y, warn=True)\n"
     ]
    },
    {
     "name": "stdout",
     "output_type": "stream",
     "text": [
      "X49 X49    0.066325\n",
      "dtype: float64\n"
     ]
    },
    {
     "name": "stderr",
     "output_type": "stream",
     "text": [
      "/Library/Frameworks/Python.framework/Versions/3.11/lib/python3.11/site-packages/sklearn/utils/validation.py:1143: DataConversionWarning: A column-vector y was passed when a 1d array was expected. Please change the shape of y to (n_samples, ), for example using ravel().\n",
      "  y = column_or_1d(y, warn=True)\n"
     ]
    },
    {
     "name": "stdout",
     "output_type": "stream",
     "text": [
      "X74 X74    0.028908\n",
      "dtype: float64\n"
     ]
    },
    {
     "name": "stderr",
     "output_type": "stream",
     "text": [
      "/Library/Frameworks/Python.framework/Versions/3.11/lib/python3.11/site-packages/sklearn/utils/validation.py:1143: DataConversionWarning: A column-vector y was passed when a 1d array was expected. Please change the shape of y to (n_samples, ), for example using ravel().\n",
      "  y = column_or_1d(y, warn=True)\n"
     ]
    },
    {
     "name": "stdout",
     "output_type": "stream",
     "text": [
      "afternoon afternoon    0.201349\n",
      "dtype: float64\n"
     ]
    }
   ],
   "source": [
    "### Getting 20 features with highest mutual information with Y1. \n",
    "\n",
    "from sklearn.feature_selection import mutual_info_regression\n",
    "\n",
    "for col in final_unc_fts:\n",
    "\n",
    "    # Compute the mutual information\n",
    "    mi = mutual_info_regression(X_train_y1[[col]], y_train_y1)\n",
    "\n",
    "    # Make a Series for the results\n",
    "    mi_series = pd.Series(mi, index=X_train_y1[[col]].columns)\n",
    "\n",
    "    print(col, mi_series)"
   ]
  },
  {
   "cell_type": "code",
   "execution_count": 100,
   "metadata": {},
   "outputs": [
    {
     "data": {
      "text/plain": [
       "Index(['X202', 'X203', 'X174', 'X175', 'X204'], dtype='object')"
      ]
     },
     "execution_count": 100,
     "metadata": {},
     "output_type": "execute_result"
    }
   ],
   "source": [
    "top_var_features = sorted_variances.head(5).index\n",
    "top_var_features"
   ]
  },
  {
   "cell_type": "code",
   "execution_count": 10,
   "metadata": {},
   "outputs": [],
   "source": [
    "final_unc_fts = ['X1', 'X10', 'X110', 'X114', 'X116', 'X118', 'X12', 'X127', 'X142',\n",
    "       'X143', 'X146', 'X147', 'X166', 'X20', 'X254', 'X335', 'X372', 'X40',\n",
    "       'X44', 'X45', 'X49', 'X74', 'afternoon']"
   ]
  },
  {
   "cell_type": "code",
   "execution_count": 11,
   "metadata": {},
   "outputs": [],
   "source": [
    "### Combining features with high variance and high correlation \n",
    "#top_tot_features = top_vars\n",
    "top_tot_features = pd.Index(final_unc_fts)"
   ]
  },
  {
   "cell_type": "code",
   "execution_count": 12,
   "metadata": {},
   "outputs": [
    {
     "data": {
      "text/html": [
       "<style>#sk-container-id-1 {color: black;background-color: white;}#sk-container-id-1 pre{padding: 0;}#sk-container-id-1 div.sk-toggleable {background-color: white;}#sk-container-id-1 label.sk-toggleable__label {cursor: pointer;display: block;width: 100%;margin-bottom: 0;padding: 0.3em;box-sizing: border-box;text-align: center;}#sk-container-id-1 label.sk-toggleable__label-arrow:before {content: \"▸\";float: left;margin-right: 0.25em;color: #696969;}#sk-container-id-1 label.sk-toggleable__label-arrow:hover:before {color: black;}#sk-container-id-1 div.sk-estimator:hover label.sk-toggleable__label-arrow:before {color: black;}#sk-container-id-1 div.sk-toggleable__content {max-height: 0;max-width: 0;overflow: hidden;text-align: left;background-color: #f0f8ff;}#sk-container-id-1 div.sk-toggleable__content pre {margin: 0.2em;color: black;border-radius: 0.25em;background-color: #f0f8ff;}#sk-container-id-1 input.sk-toggleable__control:checked~div.sk-toggleable__content {max-height: 200px;max-width: 100%;overflow: auto;}#sk-container-id-1 input.sk-toggleable__control:checked~label.sk-toggleable__label-arrow:before {content: \"▾\";}#sk-container-id-1 div.sk-estimator input.sk-toggleable__control:checked~label.sk-toggleable__label {background-color: #d4ebff;}#sk-container-id-1 div.sk-label input.sk-toggleable__control:checked~label.sk-toggleable__label {background-color: #d4ebff;}#sk-container-id-1 input.sk-hidden--visually {border: 0;clip: rect(1px 1px 1px 1px);clip: rect(1px, 1px, 1px, 1px);height: 1px;margin: -1px;overflow: hidden;padding: 0;position: absolute;width: 1px;}#sk-container-id-1 div.sk-estimator {font-family: monospace;background-color: #f0f8ff;border: 1px dotted black;border-radius: 0.25em;box-sizing: border-box;margin-bottom: 0.5em;}#sk-container-id-1 div.sk-estimator:hover {background-color: #d4ebff;}#sk-container-id-1 div.sk-parallel-item::after {content: \"\";width: 100%;border-bottom: 1px solid gray;flex-grow: 1;}#sk-container-id-1 div.sk-label:hover label.sk-toggleable__label {background-color: #d4ebff;}#sk-container-id-1 div.sk-serial::before {content: \"\";position: absolute;border-left: 1px solid gray;box-sizing: border-box;top: 0;bottom: 0;left: 50%;z-index: 0;}#sk-container-id-1 div.sk-serial {display: flex;flex-direction: column;align-items: center;background-color: white;padding-right: 0.2em;padding-left: 0.2em;position: relative;}#sk-container-id-1 div.sk-item {position: relative;z-index: 1;}#sk-container-id-1 div.sk-parallel {display: flex;align-items: stretch;justify-content: center;background-color: white;position: relative;}#sk-container-id-1 div.sk-item::before, #sk-container-id-1 div.sk-parallel-item::before {content: \"\";position: absolute;border-left: 1px solid gray;box-sizing: border-box;top: 0;bottom: 0;left: 50%;z-index: -1;}#sk-container-id-1 div.sk-parallel-item {display: flex;flex-direction: column;z-index: 1;position: relative;background-color: white;}#sk-container-id-1 div.sk-parallel-item:first-child::after {align-self: flex-end;width: 50%;}#sk-container-id-1 div.sk-parallel-item:last-child::after {align-self: flex-start;width: 50%;}#sk-container-id-1 div.sk-parallel-item:only-child::after {width: 0;}#sk-container-id-1 div.sk-dashed-wrapped {border: 1px dashed gray;margin: 0 0.4em 0.5em 0.4em;box-sizing: border-box;padding-bottom: 0.4em;background-color: white;}#sk-container-id-1 div.sk-label label {font-family: monospace;font-weight: bold;display: inline-block;line-height: 1.2em;}#sk-container-id-1 div.sk-label-container {text-align: center;}#sk-container-id-1 div.sk-container {/* jupyter's `normalize.less` sets `[hidden] { display: none; }` but bootstrap.min.css set `[hidden] { display: none !important; }` so we also need the `!important` here to be able to override the default hidden behavior on the sphinx rendered scikit-learn.org. See: https://github.com/scikit-learn/scikit-learn/issues/21755 */display: inline-block !important;position: relative;}#sk-container-id-1 div.sk-text-repr-fallback {display: none;}</style><div id=\"sk-container-id-1\" class=\"sk-top-container\"><div class=\"sk-text-repr-fallback\"><pre>Lasso(alpha=0.01)</pre><b>In a Jupyter environment, please rerun this cell to show the HTML representation or trust the notebook. <br />On GitHub, the HTML representation is unable to render, please try loading this page with nbviewer.org.</b></div><div class=\"sk-container\" hidden><div class=\"sk-item\"><div class=\"sk-estimator sk-toggleable\"><input class=\"sk-toggleable__control sk-hidden--visually\" id=\"sk-estimator-id-1\" type=\"checkbox\" checked><label for=\"sk-estimator-id-1\" class=\"sk-toggleable__label sk-toggleable__label-arrow\">Lasso</label><div class=\"sk-toggleable__content\"><pre>Lasso(alpha=0.01)</pre></div></div></div></div></div>"
      ],
      "text/plain": [
       "Lasso(alpha=0.01)"
      ]
     },
     "execution_count": 12,
     "metadata": {},
     "output_type": "execute_result"
    }
   ],
   "source": [
    "### Lasso feature selection for the morning \n",
    "\n",
    "from sklearn.linear_model import Lasso\n",
    "\n",
    "# Initialize the Lasso model\n",
    "# alpha controls the amount of shrinkage: larger values specify stronger regularization\n",
    "lasso = Lasso(alpha=.01)  # Adjust alpha based on your dataset\n",
    "\n",
    "# Fit the model\n",
    "lasso.fit(X_train_y2[top_tot_features], y_train_y2)\n"
   ]
  },
  {
   "cell_type": "code",
   "execution_count": 13,
   "metadata": {},
   "outputs": [
    {
     "name": "stdout",
     "output_type": "stream",
     "text": [
      "Index(['X1', 'X10', 'X110', 'X114', 'X116', 'X118', 'X20', 'X335', 'X372',\n",
      "       'X44', 'X74', 'afternoon'],\n",
      "      dtype='object')\n"
     ]
    }
   ],
   "source": [
    "# Get the coefficients\n",
    "coefficients = lasso.coef_\n",
    "\n",
    "# Optionally, create a boolean mask for selected features (non-zero coefficients)\n",
    "selected_features_mask = coefficients != 0\n",
    "\n",
    "# Print out the names of the selected features\n",
    "# Print out the names of the selected features\n",
    "\n",
    "\n",
    "lass_feats_y2 = X_train_y2[top_tot_features].columns[selected_features_mask].union(['afternoon'])\n",
    "print(lass_feats_y2)"
   ]
  },
  {
   "cell_type": "code",
   "execution_count": 29,
   "metadata": {},
   "outputs": [],
   "source": [
    "#lass_feats_y1 = pd.Index(['X1', 'X10', 'X114', 'X116', 'X118', 'X143', 'X147', 'X372', 'X44', 'afternoon'], dtype='object') \n",
    "#lass_feats_y1 = pd.Index(['X118', 'X143', 'X147', 'X44', 'afternoon'], dtype='object') \n",
    "lass_feats_y1 = pd.Index(['X1', 'X10', 'X110', 'X114', 'X116', 'X118', 'X20', 'X335', 'X372',\n",
    "       'X44', 'X74', 'afternoon'],\n",
    "      dtype='object')"
   ]
  },
  {
   "cell_type": "code",
   "execution_count": 30,
   "metadata": {},
   "outputs": [],
   "source": [
    "top_tot_features = lass_feats_y1"
   ]
  },
  {
   "cell_type": "code",
   "execution_count": 31,
   "metadata": {},
   "outputs": [
    {
     "name": "stdout",
     "output_type": "stream",
     "text": [
      "269.9602118706956 225.72653941010967\n"
     ]
    }
   ],
   "source": [
    "### Creating initial linear regression model using these variables\n",
    "from sklearn.linear_model import LinearRegression\n",
    "from sklearn.metrics import mean_squared_error\n",
    "\n",
    "# Create a Linear Regression model\n",
    "model = LinearRegression()\n",
    "\n",
    "# Fit (train) the model on your data\n",
    "#model.fit(X_train_y1[top_vars], y_train_y1)\n",
    "model.fit(X_train_y2[top_tot_features], y_train_y2)\n",
    "# Get the training and validation predictions to get MSE\n",
    "y_train_pred_y2 = model.predict(X_train_y2[top_tot_features])\n",
    "y_val_pred_y2 = model.predict(X_val_y2[top_tot_features])\n",
    "\n",
    "mse_train_y2 = mean_squared_error(y_train_y2, y_train_pred_y2)\n",
    "mse_val_y2 = mean_squared_error(y_val_y2, y_val_pred_y2)\n",
    "\n",
    "print(mse_train_y2, mse_val_y2)\n"
   ]
  },
  {
   "cell_type": "code",
   "execution_count": 22,
   "metadata": {},
   "outputs": [
    {
     "data": {
      "text/html": [
       "<style>#sk-container-id-2 {color: black;background-color: white;}#sk-container-id-2 pre{padding: 0;}#sk-container-id-2 div.sk-toggleable {background-color: white;}#sk-container-id-2 label.sk-toggleable__label {cursor: pointer;display: block;width: 100%;margin-bottom: 0;padding: 0.3em;box-sizing: border-box;text-align: center;}#sk-container-id-2 label.sk-toggleable__label-arrow:before {content: \"▸\";float: left;margin-right: 0.25em;color: #696969;}#sk-container-id-2 label.sk-toggleable__label-arrow:hover:before {color: black;}#sk-container-id-2 div.sk-estimator:hover label.sk-toggleable__label-arrow:before {color: black;}#sk-container-id-2 div.sk-toggleable__content {max-height: 0;max-width: 0;overflow: hidden;text-align: left;background-color: #f0f8ff;}#sk-container-id-2 div.sk-toggleable__content pre {margin: 0.2em;color: black;border-radius: 0.25em;background-color: #f0f8ff;}#sk-container-id-2 input.sk-toggleable__control:checked~div.sk-toggleable__content {max-height: 200px;max-width: 100%;overflow: auto;}#sk-container-id-2 input.sk-toggleable__control:checked~label.sk-toggleable__label-arrow:before {content: \"▾\";}#sk-container-id-2 div.sk-estimator input.sk-toggleable__control:checked~label.sk-toggleable__label {background-color: #d4ebff;}#sk-container-id-2 div.sk-label input.sk-toggleable__control:checked~label.sk-toggleable__label {background-color: #d4ebff;}#sk-container-id-2 input.sk-hidden--visually {border: 0;clip: rect(1px 1px 1px 1px);clip: rect(1px, 1px, 1px, 1px);height: 1px;margin: -1px;overflow: hidden;padding: 0;position: absolute;width: 1px;}#sk-container-id-2 div.sk-estimator {font-family: monospace;background-color: #f0f8ff;border: 1px dotted black;border-radius: 0.25em;box-sizing: border-box;margin-bottom: 0.5em;}#sk-container-id-2 div.sk-estimator:hover {background-color: #d4ebff;}#sk-container-id-2 div.sk-parallel-item::after {content: \"\";width: 100%;border-bottom: 1px solid gray;flex-grow: 1;}#sk-container-id-2 div.sk-label:hover label.sk-toggleable__label {background-color: #d4ebff;}#sk-container-id-2 div.sk-serial::before {content: \"\";position: absolute;border-left: 1px solid gray;box-sizing: border-box;top: 0;bottom: 0;left: 50%;z-index: 0;}#sk-container-id-2 div.sk-serial {display: flex;flex-direction: column;align-items: center;background-color: white;padding-right: 0.2em;padding-left: 0.2em;position: relative;}#sk-container-id-2 div.sk-item {position: relative;z-index: 1;}#sk-container-id-2 div.sk-parallel {display: flex;align-items: stretch;justify-content: center;background-color: white;position: relative;}#sk-container-id-2 div.sk-item::before, #sk-container-id-2 div.sk-parallel-item::before {content: \"\";position: absolute;border-left: 1px solid gray;box-sizing: border-box;top: 0;bottom: 0;left: 50%;z-index: -1;}#sk-container-id-2 div.sk-parallel-item {display: flex;flex-direction: column;z-index: 1;position: relative;background-color: white;}#sk-container-id-2 div.sk-parallel-item:first-child::after {align-self: flex-end;width: 50%;}#sk-container-id-2 div.sk-parallel-item:last-child::after {align-self: flex-start;width: 50%;}#sk-container-id-2 div.sk-parallel-item:only-child::after {width: 0;}#sk-container-id-2 div.sk-dashed-wrapped {border: 1px dashed gray;margin: 0 0.4em 0.5em 0.4em;box-sizing: border-box;padding-bottom: 0.4em;background-color: white;}#sk-container-id-2 div.sk-label label {font-family: monospace;font-weight: bold;display: inline-block;line-height: 1.2em;}#sk-container-id-2 div.sk-label-container {text-align: center;}#sk-container-id-2 div.sk-container {/* jupyter's `normalize.less` sets `[hidden] { display: none; }` but bootstrap.min.css set `[hidden] { display: none !important; }` so we also need the `!important` here to be able to override the default hidden behavior on the sphinx rendered scikit-learn.org. See: https://github.com/scikit-learn/scikit-learn/issues/21755 */display: inline-block !important;position: relative;}#sk-container-id-2 div.sk-text-repr-fallback {display: none;}</style><div id=\"sk-container-id-2\" class=\"sk-top-container\"><div class=\"sk-text-repr-fallback\"><pre>RFE(estimator=LinearRegression(), n_features_to_select=10)</pre><b>In a Jupyter environment, please rerun this cell to show the HTML representation or trust the notebook. <br />On GitHub, the HTML representation is unable to render, please try loading this page with nbviewer.org.</b></div><div class=\"sk-container\" hidden><div class=\"sk-item sk-dashed-wrapped\"><div class=\"sk-label-container\"><div class=\"sk-label sk-toggleable\"><input class=\"sk-toggleable__control sk-hidden--visually\" id=\"sk-estimator-id-2\" type=\"checkbox\" ><label for=\"sk-estimator-id-2\" class=\"sk-toggleable__label sk-toggleable__label-arrow\">RFE</label><div class=\"sk-toggleable__content\"><pre>RFE(estimator=LinearRegression(), n_features_to_select=10)</pre></div></div></div><div class=\"sk-parallel\"><div class=\"sk-parallel-item\"><div class=\"sk-item\"><div class=\"sk-label-container\"><div class=\"sk-label sk-toggleable\"><input class=\"sk-toggleable__control sk-hidden--visually\" id=\"sk-estimator-id-3\" type=\"checkbox\" ><label for=\"sk-estimator-id-3\" class=\"sk-toggleable__label sk-toggleable__label-arrow\">estimator: LinearRegression</label><div class=\"sk-toggleable__content\"><pre>LinearRegression()</pre></div></div></div><div class=\"sk-serial\"><div class=\"sk-item\"><div class=\"sk-estimator sk-toggleable\"><input class=\"sk-toggleable__control sk-hidden--visually\" id=\"sk-estimator-id-4\" type=\"checkbox\" ><label for=\"sk-estimator-id-4\" class=\"sk-toggleable__label sk-toggleable__label-arrow\">LinearRegression</label><div class=\"sk-toggleable__content\"><pre>LinearRegression()</pre></div></div></div></div></div></div></div></div></div></div>"
      ],
      "text/plain": [
       "RFE(estimator=LinearRegression(), n_features_to_select=10)"
      ]
     },
     "execution_count": 22,
     "metadata": {},
     "output_type": "execute_result"
    }
   ],
   "source": [
    "### Performing RFE with linear model and these features\n",
    "from sklearn.feature_selection import RFE\n",
    "\n",
    "# Initialize a linear regression model\n",
    "linear_model = LinearRegression()\n",
    "\n",
    "# Initialize RFE with the linear model and desired number of features\n",
    "num_features_to_select = 10  # for example, choose 10 features\n",
    "rfe = RFE(estimator=linear_model, n_features_to_select=num_features_to_select)\n",
    "\n",
    "rfe.fit(X_train_y2[top_tot_features], y_train_y2)"
   ]
  },
  {
   "cell_type": "code",
   "execution_count": 23,
   "metadata": {},
   "outputs": [
    {
     "name": "stdout",
     "output_type": "stream",
     "text": [
      "Selected features: Index(['X118', 'X20', 'X335', 'X372', 'X44', 'X74', 'afternoon'], dtype='object')\n",
      "Feature ranking: [1 1 1 1 1 1 1]\n"
     ]
    }
   ],
   "source": [
    "# Get the ranking of the features. \n",
    "# Features with ranking 1 are selected by RFE\n",
    "ranking = rfe.ranking_\n",
    "\n",
    "# Get the mask of selected features (features with rank 1 are selected)\n",
    "selected_features_mask = rfe.support_\n",
    "\n",
    "# Get the selected feature names if you're using a pandas DataFrame\n",
    "if isinstance(X_train_y2, pd.DataFrame):\n",
    "    selected_feature_names = X_train_y2[top_tot_features].columns[selected_features_mask]\n",
    "    print(\"Selected features:\", selected_feature_names)\n",
    "\n",
    "# Print the ranking\n",
    "print(\"Feature ranking:\", ranking)"
   ]
  },
  {
   "cell_type": "code",
   "execution_count": 26,
   "metadata": {},
   "outputs": [],
   "source": [
    "top_tot_features = selected_feature_names"
   ]
  },
  {
   "cell_type": "code",
   "execution_count": 33,
   "metadata": {},
   "outputs": [
    {
     "name": "stdout",
     "output_type": "stream",
     "text": [
      "0.1568341314837869 X1\n",
      "-0.037324892051129425 X10\n",
      "0.11098108743690752 X114\n",
      "0.09553339455383426 X116\n",
      "-0.015637364884467157 X118\n",
      "0.1375949409034615 X143\n",
      "0.15323034278719955 X147\n",
      "-0.05874139139016094 X372\n",
      "-0.151608163335215 X44\n",
      "0.025911287285092403 afternoon\n"
     ]
    }
   ],
   "source": [
    "for coeff,name in zip(coefficients.reshape(-1).tolist(), feature_names.to_list()):\n",
    "    print(coeff,name)"
   ]
  },
  {
   "cell_type": "code",
   "execution_count": 33,
   "metadata": {},
   "outputs": [
    {
     "name": "stdout",
     "output_type": "stream",
     "text": [
      "Linear Model Equation:\n",
      "Y1 =  0.4449436772263295*X1 + 0.06006251850779655*X10 + 0.07903327626190287*X110 + 0.160591162622354*X114 + 0.10806743486272212*X116 + -0.048542652223079526*X118 + 0.6347399136750168*X20 + -0.4108515271210851*X335 + -0.11927884632174064*X372 + -0.35644407503369435*X44 + -0.06072720349867292*X74 + 0.13130361914398447*afternoon + [-0.23209854]\n"
     ]
    }
   ],
   "source": [
    "# Get the coefficients and the intercept\n",
    "coefficients = model.coef_\n",
    "intercept = model.intercept_\n",
    "\n",
    "# Get feature names if X_train is a DataFrame, otherwise use a generic naming scheme\n",
    "if isinstance(X_train_y2, pd.DataFrame):\n",
    "    feature_names = X_train_y2[top_tot_features].columns\n",
    "else:\n",
    "    feature_names = [f'x{i}' for i in range(1, len(coefficients) + 1)]\n",
    "feature_names\n",
    "# Construct equation components\n",
    "equation_terms = [f\"{coeff}*{name}\" for coeff,name in zip(coefficients.reshape(-1).tolist(), feature_names.to_list())]\n",
    "\n",
    "# Combine terms and add intercept\n",
    "equation = \" + \".join(equation_terms) + f\" + {intercept}\"\n",
    "\n",
    "print(\"Linear Model Equation:\")\n",
    "print(\"Y1 = \", equation)"
   ]
  },
  {
   "cell_type": "code",
   "execution_count": 20,
   "metadata": {},
   "outputs": [
    {
     "name": "stdout",
     "output_type": "stream",
     "text": [
      "225.73032\n"
     ]
    }
   ],
   "source": [
    "### Testing with mean method \n",
    "mean_y = np.mean(y_train_y2)\n",
    "y_val_pred_y2 = [mean_y]*len(y_val_y2)\n",
    "mse_val_y2 = mean_squared_error(y_val_y2, y_val_pred_y2)\n",
    "print(mse_val_y2)"
   ]
  },
  {
   "cell_type": "code",
   "execution_count": 22,
   "metadata": {},
   "outputs": [],
   "source": [
    "y_val_y2 = y_val_y2.to_numpy().reshape(-1)"
   ]
  },
  {
   "cell_type": "code",
   "execution_count": 32,
   "metadata": {},
   "outputs": [
    {
     "name": "stdout",
     "output_type": "stream",
     "text": [
      "Fraction of instances where predicted values have the same sign as the true values: 0.5060082319020625\n"
     ]
    }
   ],
   "source": [
    "# Calculate the signs of the true values and the predicted values\n",
    "sign_true = np.sign(y_val_y2)\n",
    "sign_pred = np.sign(y_val_pred_y2)\n",
    "\n",
    "# Calculate the fraction of instances where the signs are the same\n",
    "fraction_same_sign = np.mean(sign_true == sign_pred)\n",
    "\n",
    "print('Fraction of instances where predicted values have the same sign as the true values:', fraction_same_sign)"
   ]
  },
  {
   "cell_type": "code",
   "execution_count": 73,
   "metadata": {},
   "outputs": [
    {
     "name": "stdout",
     "output_type": "stream",
     "text": [
      "155.0328065417388 137.09765795828466\n"
     ]
    }
   ],
   "source": [
    "from sklearn.linear_model import Lasso\n",
    "\n",
    "# Initialize the Lasso model\n",
    "lasso = Lasso(alpha=.003)  # You can adjust alpha as needed\n",
    "\n",
    "# Fit the model\n",
    "lasso.fit(X_train_y1[top_tot_features], y_train_y1)\n",
    "\n",
    "y_train_pred_y1 = lasso.predict(X_train_y1[top_tot_features])\n",
    "y_val_pred_y1 = lasso.predict(X_val_y1[top_tot_features])\n",
    "\n",
    "mse_train_y1 = mean_squared_error(y_train_y1, y_train_pred_y1)\n",
    "mse_val_y1 = mean_squared_error(y_val_y1, y_val_pred_y1)\n",
    "\n",
    "print(mse_train_y1, mse_val_y1)"
   ]
  },
  {
   "cell_type": "code",
   "execution_count": 66,
   "metadata": {},
   "outputs": [
    {
     "data": {
      "image/png": "[encoded data removed]",
      "text/plain": [
       "<Figure size 640x480 with 1 Axes>"
      ]
     },
     "metadata": {},
     "output_type": "display_data"
    },
    {
     "data": {
      "image/png": "[encoded data removed]",
      "text/plain": [
       "<Figure size 640x480 with 1 Axes>"
      ]
     },
     "metadata": {},
     "output_type": "display_data"
    },
    {
     "data": {
      "image/png": "[encoded data removed]",
      "text/plain": [
       "<Figure size 640x480 with 1 Axes>"
      ]
     },
     "metadata": {},
     "output_type": "display_data"
    }
   ],
   "source": [
    "plt.hist(y_train_pred_y1, bins=50)\n",
    "plt.show()\n",
    "\n",
    "plt.hist(y_train_y1, bins=50)\n",
    "plt.show()\n",
    "\n",
    "plt.hist(y_val_y1, bins=50)\n",
    "plt.show()"
   ]
  },
  {
   "cell_type": "code",
   "execution_count": 11,
   "metadata": {},
   "outputs": [
    {
     "data": {
      "text/html": [
       "<style>#sk-container-id-1 {color: black;background-color: white;}#sk-container-id-1 pre{padding: 0;}#sk-container-id-1 div.sk-toggleable {background-color: white;}#sk-container-id-1 label.sk-toggleable__label {cursor: pointer;display: block;width: 100%;margin-bottom: 0;padding: 0.3em;box-sizing: border-box;text-align: center;}#sk-container-id-1 label.sk-toggleable__label-arrow:before {content: \"▸\";float: left;margin-right: 0.25em;color: #696969;}#sk-container-id-1 label.sk-toggleable__label-arrow:hover:before {color: black;}#sk-container-id-1 div.sk-estimator:hover label.sk-toggleable__label-arrow:before {color: black;}#sk-container-id-1 div.sk-toggleable__content {max-height: 0;max-width: 0;overflow: hidden;text-align: left;background-color: #f0f8ff;}#sk-container-id-1 div.sk-toggleable__content pre {margin: 0.2em;color: black;border-radius: 0.25em;background-color: #f0f8ff;}#sk-container-id-1 input.sk-toggleable__control:checked~div.sk-toggleable__content {max-height: 200px;max-width: 100%;overflow: auto;}#sk-container-id-1 input.sk-toggleable__control:checked~label.sk-toggleable__label-arrow:before {content: \"▾\";}#sk-container-id-1 div.sk-estimator input.sk-toggleable__control:checked~label.sk-toggleable__label {background-color: #d4ebff;}#sk-container-id-1 div.sk-label input.sk-toggleable__control:checked~label.sk-toggleable__label {background-color: #d4ebff;}#sk-container-id-1 input.sk-hidden--visually {border: 0;clip: rect(1px 1px 1px 1px);clip: rect(1px, 1px, 1px, 1px);height: 1px;margin: -1px;overflow: hidden;padding: 0;position: absolute;width: 1px;}#sk-container-id-1 div.sk-estimator {font-family: monospace;background-color: #f0f8ff;border: 1px dotted black;border-radius: 0.25em;box-sizing: border-box;margin-bottom: 0.5em;}#sk-container-id-1 div.sk-estimator:hover {background-color: #d4ebff;}#sk-container-id-1 div.sk-parallel-item::after {content: \"\";width: 100%;border-bottom: 1px solid gray;flex-grow: 1;}#sk-container-id-1 div.sk-label:hover label.sk-toggleable__label {background-color: #d4ebff;}#sk-container-id-1 div.sk-serial::before {content: \"\";position: absolute;border-left: 1px solid gray;box-sizing: border-box;top: 0;bottom: 0;left: 50%;z-index: 0;}#sk-container-id-1 div.sk-serial {display: flex;flex-direction: column;align-items: center;background-color: white;padding-right: 0.2em;padding-left: 0.2em;position: relative;}#sk-container-id-1 div.sk-item {position: relative;z-index: 1;}#sk-container-id-1 div.sk-parallel {display: flex;align-items: stretch;justify-content: center;background-color: white;position: relative;}#sk-container-id-1 div.sk-item::before, #sk-container-id-1 div.sk-parallel-item::before {content: \"\";position: absolute;border-left: 1px solid gray;box-sizing: border-box;top: 0;bottom: 0;left: 50%;z-index: -1;}#sk-container-id-1 div.sk-parallel-item {display: flex;flex-direction: column;z-index: 1;position: relative;background-color: white;}#sk-container-id-1 div.sk-parallel-item:first-child::after {align-self: flex-end;width: 50%;}#sk-container-id-1 div.sk-parallel-item:last-child::after {align-self: flex-start;width: 50%;}#sk-container-id-1 div.sk-parallel-item:only-child::after {width: 0;}#sk-container-id-1 div.sk-dashed-wrapped {border: 1px dashed gray;margin: 0 0.4em 0.5em 0.4em;box-sizing: border-box;padding-bottom: 0.4em;background-color: white;}#sk-container-id-1 div.sk-label label {font-family: monospace;font-weight: bold;display: inline-block;line-height: 1.2em;}#sk-container-id-1 div.sk-label-container {text-align: center;}#sk-container-id-1 div.sk-container {/* jupyter's `normalize.less` sets `[hidden] { display: none; }` but bootstrap.min.css set `[hidden] { display: none !important; }` so we also need the `!important` here to be able to override the default hidden behavior on the sphinx rendered scikit-learn.org. See: https://github.com/scikit-learn/scikit-learn/issues/21755 */display: inline-block !important;position: relative;}#sk-container-id-1 div.sk-text-repr-fallback {display: none;}</style><div id=\"sk-container-id-1\" class=\"sk-top-container\"><div class=\"sk-text-repr-fallback\"><pre>Lasso(alpha=0.01)</pre><b>In a Jupyter environment, please rerun this cell to show the HTML representation or trust the notebook. <br />On GitHub, the HTML representation is unable to render, please try loading this page with nbviewer.org.</b></div><div class=\"sk-container\" hidden><div class=\"sk-item\"><div class=\"sk-estimator sk-toggleable\"><input class=\"sk-toggleable__control sk-hidden--visually\" id=\"sk-estimator-id-1\" type=\"checkbox\" checked><label for=\"sk-estimator-id-1\" class=\"sk-toggleable__label sk-toggleable__label-arrow\">Lasso</label><div class=\"sk-toggleable__content\"><pre>Lasso(alpha=0.01)</pre></div></div></div></div></div>"
      ],
      "text/plain": [
       "Lasso(alpha=0.01)"
      ]
     },
     "execution_count": 11,
     "metadata": {},
     "output_type": "execute_result"
    }
   ],
   "source": [
    "### Using LASSO for feature selection \n",
    "\n",
    "# normalize features first\n",
    "from sklearn.preprocessing import StandardScaler\n",
    "\n",
    "scaler = StandardScaler()\n",
    "X_train_y1_scaled = scaler.fit_transform(X_train_y1[top_vars])\n",
    "\n",
    "from sklearn.linear_model import Lasso\n",
    "\n",
    "# Initialize Lasso model\n",
    "lasso = Lasso(alpha=0.01) \n",
    "\n",
    "# Fit the model\n",
    "lasso.fit(X_train_y1_scaled, y_train_y1)"
   ]
  },
  {
   "cell_type": "code",
   "execution_count": 15,
   "metadata": {},
   "outputs": [],
   "source": [
    "# Convert the scaled data back to a DataFrame\n",
    "X_train_y1_scaled = pd.DataFrame(X_train_y1_scaled, columns=X_train_y1[top_vars].columns, index=X_train_y1[top_vars].index)"
   ]
  },
  {
   "cell_type": "code",
   "execution_count": 17,
   "metadata": {},
   "outputs": [
    {
     "name": "stdout",
     "output_type": "stream",
     "text": [
      "Selected features: ['X116', 'X122', 'X123', 'X124', 'X169', 'X18', 'X19', 'X197', 'X198', 'X2', 'X201', 'X206', 'X222', 'X223', 'X234', 'X273', 'X274', 'X275', 'X372', 'X373', 'X375', 'X46', 'X52', 'X76', 'afternoon']\n",
      "25\n"
     ]
    }
   ],
   "source": [
    "# Get the coefficients\n",
    "lasso_coef = lasso.coef_\n",
    "\n",
    "# Look at the variables with non-zero coefficients\n",
    "selected_features = X_train_y1_scaled.columns[(lasso_coef != 0)].tolist()\n",
    "print(\"Selected features:\", selected_features)\n",
    "print(len(selected_features))\n"
   ]
  },
  {
   "cell_type": "code",
   "execution_count": 97,
   "metadata": {},
   "outputs": [
    {
     "ename": "NameError",
     "evalue": "name 'X_train_y1_scaled' is not defined",
     "output_type": "error",
     "traceback": [
      "\u001b[0;31m---------------------------------------------------------------------------\u001b[0m",
      "\u001b[0;31mNameError\u001b[0m                                 Traceback (most recent call last)",
      "Cell \u001b[0;32mIn[97], line 7\u001b[0m\n\u001b[1;32m      4\u001b[0m model \u001b[38;5;241m=\u001b[39m LinearRegression()\n\u001b[1;32m      6\u001b[0m \u001b[38;5;66;03m# Fit (train) the model on your data\u001b[39;00m\n\u001b[0;32m----> 7\u001b[0m model\u001b[38;5;241m.\u001b[39mfit(\u001b[43mX_train_y1_scaled\u001b[49m[selected_features], y_train_y1)\n\u001b[1;32m      9\u001b[0m \u001b[38;5;66;03m# Get scaled version of the validation set\u001b[39;00m\n\u001b[1;32m     10\u001b[0m X_val_y1_scaled \u001b[38;5;241m=\u001b[39m scaler\u001b[38;5;241m.\u001b[39mfit_transform(X_val_y1[top_vars])\n",
      "\u001b[0;31mNameError\u001b[0m: name 'X_train_y1_scaled' is not defined"
     ]
    }
   ],
   "source": [
    "# Train new model using these features \n",
    "\n",
    "# Create a Linear Regression model\n",
    "model = LinearRegression()\n",
    "\n",
    "# Fit (train) the model on your data\n",
    "model.fit(X_train_y1_scaled[selected_features], y_train_y1)\n",
    "\n",
    "# Get scaled version of the validation set\n",
    "X_val_y1_scaled = scaler.fit_transform(X_val_y1[top_vars])\n",
    "X_val_y1_scaled = pd.DataFrame(X_val_y1_scaled, columns=X_val_y1[top_vars].columns, index=X_val_y1[top_vars].index)\n",
    "\n",
    "# Get the training and validation predictions to get MSE\n",
    "y_train_pred_y1 = model.predict(X_train_y1_scaled[selected_features])\n",
    "y_val_pred_y1 = model.predict(X_val_y1_scaled[selected_features])\n",
    "\n",
    "mse_train_y1 = mean_squared_error(y_train_y1, y_train_pred_y1)\n",
    "mse_val_y1 = mean_squared_error(y_val_y1, y_val_pred_y1)\n",
    "\n",
    "print(mse_train_y1, mse_val_y1)"
   ]
  },
  {
   "cell_type": "code",
   "execution_count": 40,
   "metadata": {},
   "outputs": [
    {
     "data": {
      "text/plain": [
       "137.33581043473657"
      ]
     },
     "execution_count": 40,
     "metadata": {},
     "output_type": "execute_result"
    }
   ],
   "source": [
    "mse_val_y1"
   ]
  },
  {
   "cell_type": "code",
   "execution_count": 41,
   "metadata": {},
   "outputs": [
    {
     "ename": "AttributeError",
     "evalue": "'SequentialFeatureSelector' object has no attribute 'k_feature_idx_'",
     "output_type": "error",
     "traceback": [
      "\u001b[0;31m---------------------------------------------------------------------------\u001b[0m",
      "\u001b[0;31mAttributeError\u001b[0m                            Traceback (most recent call last)",
      "Cell \u001b[0;32mIn[41], line 8\u001b[0m\n\u001b[1;32m      5\u001b[0m sfs \u001b[38;5;241m=\u001b[39m SFS(model, n_features_to_select\u001b[38;5;241m=\u001b[39m\u001b[38;5;241m10\u001b[39m, direction\u001b[38;5;241m=\u001b[39m\u001b[38;5;124m'\u001b[39m\u001b[38;5;124mforward\u001b[39m\u001b[38;5;124m'\u001b[39m, scoring\u001b[38;5;241m=\u001b[39m\u001b[38;5;124m'\u001b[39m\u001b[38;5;124mneg_mean_squared_error\u001b[39m\u001b[38;5;124m'\u001b[39m, cv\u001b[38;5;241m=\u001b[39m\u001b[38;5;241m5\u001b[39m)\n\u001b[1;32m      6\u001b[0m sfs \u001b[38;5;241m=\u001b[39m sfs\u001b[38;5;241m.\u001b[39mfit(X_train_y1_scaled[selected_features], y_train_y1)\n\u001b[0;32m----> 8\u001b[0m selected_features_wrapper \u001b[38;5;241m=\u001b[39m X_train_y1_scaled\u001b[38;5;241m.\u001b[39mcolumns[\u001b[38;5;28mlist\u001b[39m(\u001b[43msfs\u001b[49m\u001b[38;5;241;43m.\u001b[39;49m\u001b[43mk_feature_idx_\u001b[49m)]\n",
      "\u001b[0;31mAttributeError\u001b[0m: 'SequentialFeatureSelector' object has no attribute 'k_feature_idx_'"
     ]
    }
   ],
   "source": [
    "# Using sequential feature selection to get at most 10 variables \n",
    "from sklearn.feature_selection import SequentialFeatureSelector as SFS\n",
    "\n",
    "model = LinearRegression()\n",
    "sfs = SFS(model, n_features_to_select=10, direction='forward', scoring='neg_mean_squared_error', cv=5)\n",
    "sfs = sfs.fit(X_train_y1_scaled[selected_features], y_train_y1)\n"
   ]
  },
  {
   "cell_type": "code",
   "execution_count": 46,
   "metadata": {},
   "outputs": [],
   "source": [
    "sfs_feats = sfs.get_feature_names_out()"
   ]
  },
  {
   "cell_type": "code",
   "execution_count": 48,
   "metadata": {},
   "outputs": [
    {
     "data": {
      "text/plain": [
       "(3767637, 10)"
      ]
     },
     "execution_count": 48,
     "metadata": {},
     "output_type": "execute_result"
    }
   ],
   "source": [
    "X_train_sfs_y1 = X_train_y1_scaled[sfs_feats]\n",
    "X_train_sfs_y1.shape"
   ]
  },
  {
   "cell_type": "code",
   "execution_count": 49,
   "metadata": {},
   "outputs": [
    {
     "name": "stdout",
     "output_type": "stream",
     "text": [
      "154.92409611158428 137.14619708450968\n"
     ]
    }
   ],
   "source": [
    "# Train another linear regression model\n",
    "\n",
    "# Create a Linear Regression model\n",
    "model = LinearRegression()\n",
    "\n",
    "# Fit (train) the model on your data\n",
    "model.fit(X_train_y1_scaled[sfs_feats], y_train_y1)\n",
    "\n",
    "# Get the training and validation predictions to get MSE\n",
    "y_train_pred_y1 = model.predict(X_train_y1_scaled[sfs_feats])\n",
    "y_val_pred_y1 = model.predict(X_val_y1_scaled[sfs_feats])\n",
    "\n",
    "mse_train_y1 = mean_squared_error(y_train_y1, y_train_pred_y1)\n",
    "mse_val_y1 = mean_squared_error(y_val_y1, y_val_pred_y1)\n",
    "\n",
    "print(mse_train_y1, mse_val_y1)"
   ]
  },
  {
   "cell_type": "code",
   "execution_count": 114,
   "metadata": {},
   "outputs": [
    {
     "data": {
      "text/html": [
       "<style>#sk-container-id-1 {color: black;background-color: white;}#sk-container-id-1 pre{padding: 0;}#sk-container-id-1 div.sk-toggleable {background-color: white;}#sk-container-id-1 label.sk-toggleable__label {cursor: pointer;display: block;width: 100%;margin-bottom: 0;padding: 0.3em;box-sizing: border-box;text-align: center;}#sk-container-id-1 label.sk-toggleable__label-arrow:before {content: \"▸\";float: left;margin-right: 0.25em;color: #696969;}#sk-container-id-1 label.sk-toggleable__label-arrow:hover:before {color: black;}#sk-container-id-1 div.sk-estimator:hover label.sk-toggleable__label-arrow:before {color: black;}#sk-container-id-1 div.sk-toggleable__content {max-height: 0;max-width: 0;overflow: hidden;text-align: left;background-color: #f0f8ff;}#sk-container-id-1 div.sk-toggleable__content pre {margin: 0.2em;color: black;border-radius: 0.25em;background-color: #f0f8ff;}#sk-container-id-1 input.sk-toggleable__control:checked~div.sk-toggleable__content {max-height: 200px;max-width: 100%;overflow: auto;}#sk-container-id-1 input.sk-toggleable__control:checked~label.sk-toggleable__label-arrow:before {content: \"▾\";}#sk-container-id-1 div.sk-estimator input.sk-toggleable__control:checked~label.sk-toggleable__label {background-color: #d4ebff;}#sk-container-id-1 div.sk-label input.sk-toggleable__control:checked~label.sk-toggleable__label {background-color: #d4ebff;}#sk-container-id-1 input.sk-hidden--visually {border: 0;clip: rect(1px 1px 1px 1px);clip: rect(1px, 1px, 1px, 1px);height: 1px;margin: -1px;overflow: hidden;padding: 0;position: absolute;width: 1px;}#sk-container-id-1 div.sk-estimator {font-family: monospace;background-color: #f0f8ff;border: 1px dotted black;border-radius: 0.25em;box-sizing: border-box;margin-bottom: 0.5em;}#sk-container-id-1 div.sk-estimator:hover {background-color: #d4ebff;}#sk-container-id-1 div.sk-parallel-item::after {content: \"\";width: 100%;border-bottom: 1px solid gray;flex-grow: 1;}#sk-container-id-1 div.sk-label:hover label.sk-toggleable__label {background-color: #d4ebff;}#sk-container-id-1 div.sk-serial::before {content: \"\";position: absolute;border-left: 1px solid gray;box-sizing: border-box;top: 0;bottom: 0;left: 50%;z-index: 0;}#sk-container-id-1 div.sk-serial {display: flex;flex-direction: column;align-items: center;background-color: white;padding-right: 0.2em;padding-left: 0.2em;position: relative;}#sk-container-id-1 div.sk-item {position: relative;z-index: 1;}#sk-container-id-1 div.sk-parallel {display: flex;align-items: stretch;justify-content: center;background-color: white;position: relative;}#sk-container-id-1 div.sk-item::before, #sk-container-id-1 div.sk-parallel-item::before {content: \"\";position: absolute;border-left: 1px solid gray;box-sizing: border-box;top: 0;bottom: 0;left: 50%;z-index: -1;}#sk-container-id-1 div.sk-parallel-item {display: flex;flex-direction: column;z-index: 1;position: relative;background-color: white;}#sk-container-id-1 div.sk-parallel-item:first-child::after {align-self: flex-end;width: 50%;}#sk-container-id-1 div.sk-parallel-item:last-child::after {align-self: flex-start;width: 50%;}#sk-container-id-1 div.sk-parallel-item:only-child::after {width: 0;}#sk-container-id-1 div.sk-dashed-wrapped {border: 1px dashed gray;margin: 0 0.4em 0.5em 0.4em;box-sizing: border-box;padding-bottom: 0.4em;background-color: white;}#sk-container-id-1 div.sk-label label {font-family: monospace;font-weight: bold;display: inline-block;line-height: 1.2em;}#sk-container-id-1 div.sk-label-container {text-align: center;}#sk-container-id-1 div.sk-container {/* jupyter's `normalize.less` sets `[hidden] { display: none; }` but bootstrap.min.css set `[hidden] { display: none !important; }` so we also need the `!important` here to be able to override the default hidden behavior on the sphinx rendered scikit-learn.org. See: https://github.com/scikit-learn/scikit-learn/issues/21755 */display: inline-block !important;position: relative;}#sk-container-id-1 div.sk-text-repr-fallback {display: none;}</style><div id=\"sk-container-id-1\" class=\"sk-top-container\"><div class=\"sk-text-repr-fallback\"><pre>XGBRegressor(base_score=None, booster=None, callbacks=None,\n",
       "             colsample_bylevel=None, colsample_bynode=None,\n",
       "             colsample_bytree=None, early_stopping_rounds=None,\n",
       "             enable_categorical=False, eval_metric=None, feature_types=None,\n",
       "             gamma=None, gpu_id=None, grow_policy=None, importance_type=None,\n",
       "             interaction_constraints=None, learning_rate=0.01, max_bin=None,\n",
       "             max_cat_threshold=None, max_cat_to_onehot=None,\n",
       "             max_delta_step=None, max_depth=2, max_leaves=None,\n",
       "             min_child_weight=None, missing=nan, monotone_constraints=None,\n",
       "             n_estimators=50, n_jobs=None, num_parallel_tree=None,\n",
       "             predictor=None, random_state=42, ...)</pre><b>In a Jupyter environment, please rerun this cell to show the HTML representation or trust the notebook. <br />On GitHub, the HTML representation is unable to render, please try loading this page with nbviewer.org.</b></div><div class=\"sk-container\" hidden><div class=\"sk-item\"><div class=\"sk-estimator sk-toggleable\"><input class=\"sk-toggleable__control sk-hidden--visually\" id=\"sk-estimator-id-1\" type=\"checkbox\" checked><label for=\"sk-estimator-id-1\" class=\"sk-toggleable__label sk-toggleable__label-arrow\">XGBRegressor</label><div class=\"sk-toggleable__content\"><pre>XGBRegressor(base_score=None, booster=None, callbacks=None,\n",
       "             colsample_bylevel=None, colsample_bynode=None,\n",
       "             colsample_bytree=None, early_stopping_rounds=None,\n",
       "             enable_categorical=False, eval_metric=None, feature_types=None,\n",
       "             gamma=None, gpu_id=None, grow_policy=None, importance_type=None,\n",
       "             interaction_constraints=None, learning_rate=0.01, max_bin=None,\n",
       "             max_cat_threshold=None, max_cat_to_onehot=None,\n",
       "             max_delta_step=None, max_depth=2, max_leaves=None,\n",
       "             min_child_weight=None, missing=nan, monotone_constraints=None,\n",
       "             n_estimators=50, n_jobs=None, num_parallel_tree=None,\n",
       "             predictor=None, random_state=42, ...)</pre></div></div></div></div></div>"
      ],
      "text/plain": [
       "XGBRegressor(base_score=None, booster=None, callbacks=None,\n",
       "             colsample_bylevel=None, colsample_bynode=None,\n",
       "             colsample_bytree=None, early_stopping_rounds=None,\n",
       "             enable_categorical=False, eval_metric=None, feature_types=None,\n",
       "             gamma=None, gpu_id=None, grow_policy=None, importance_type=None,\n",
       "             interaction_constraints=None, learning_rate=0.01, max_bin=None,\n",
       "             max_cat_threshold=None, max_cat_to_onehot=None,\n",
       "             max_delta_step=None, max_depth=2, max_leaves=None,\n",
       "             min_child_weight=None, missing=nan, monotone_constraints=None,\n",
       "             n_estimators=50, n_jobs=None, num_parallel_tree=None,\n",
       "             predictor=None, random_state=42, ...)"
      ]
     },
     "execution_count": 114,
     "metadata": {},
     "output_type": "execute_result"
    }
   ],
   "source": [
    "### Training an initial xgboost model since the linear model does not seem to improve\n",
    "\n",
    "import xgboost as xgb\n",
    "\n",
    "# Initialize the model\n",
    "xgb_model = xgb.XGBRegressor(objective='reg:squarederror', n_estimators=50, learning_rate=0.01, max_depth=2, random_state=42)\n",
    "\n",
    "# Fit the model\n",
    "xgb_model.fit(X_train_y1[top_tot_features], y_train_y1)\n",
    "\n",
    "# Optionally, you can evaluate the model on validation data (X_val, y_val)\n",
    "# xgb_model.fit(X_train, y_train, eval_set=[(X_val, y_val)], early_stopping_rounds=10, verbose=True)\n"
   ]
  },
  {
   "cell_type": "code",
   "execution_count": 144,
   "metadata": {},
   "outputs": [],
   "source": [
    "# Get feature importances\n",
    "feature_importances = xgb_model.feature_importances_\n",
    "\n",
    "# Sort the feature importances in descending order and select top N features\n",
    "sorted_idx = feature_importances.argsort()[::-1][:10]\n",
    "\n",
    "# Get the names of the top features\n",
    "top_features = X_train_y1.columns[sorted_idx]\n",
    "top_features = top_features.append(pd.Index(['afternoon']))"
   ]
  },
  {
   "cell_type": "code",
   "execution_count": 9,
   "metadata": {},
   "outputs": [],
   "source": [
    "# Using only select rows \n",
    "\n",
    "X__train_select_y1 = X_train_y1\n",
    "y_train_select_y1 = y_train_y1"
   ]
  },
  {
   "cell_type": "code",
   "execution_count": 10,
   "metadata": {},
   "outputs": [
    {
     "data": {
      "text/plain": [
       "(3767637, 376)"
      ]
     },
     "execution_count": 10,
     "metadata": {},
     "output_type": "execute_result"
    }
   ],
   "source": [
    "X__train_select_y1.shape"
   ]
  },
  {
   "cell_type": "code",
   "execution_count": 11,
   "metadata": {},
   "outputs": [
    {
     "data": {
      "text/html": [
       "<style>#sk-container-id-1 {color: black;background-color: white;}#sk-container-id-1 pre{padding: 0;}#sk-container-id-1 div.sk-toggleable {background-color: white;}#sk-container-id-1 label.sk-toggleable__label {cursor: pointer;display: block;width: 100%;margin-bottom: 0;padding: 0.3em;box-sizing: border-box;text-align: center;}#sk-container-id-1 label.sk-toggleable__label-arrow:before {content: \"▸\";float: left;margin-right: 0.25em;color: #696969;}#sk-container-id-1 label.sk-toggleable__label-arrow:hover:before {color: black;}#sk-container-id-1 div.sk-estimator:hover label.sk-toggleable__label-arrow:before {color: black;}#sk-container-id-1 div.sk-toggleable__content {max-height: 0;max-width: 0;overflow: hidden;text-align: left;background-color: #f0f8ff;}#sk-container-id-1 div.sk-toggleable__content pre {margin: 0.2em;color: black;border-radius: 0.25em;background-color: #f0f8ff;}#sk-container-id-1 input.sk-toggleable__control:checked~div.sk-toggleable__content {max-height: 200px;max-width: 100%;overflow: auto;}#sk-container-id-1 input.sk-toggleable__control:checked~label.sk-toggleable__label-arrow:before {content: \"▾\";}#sk-container-id-1 div.sk-estimator input.sk-toggleable__control:checked~label.sk-toggleable__label {background-color: #d4ebff;}#sk-container-id-1 div.sk-label input.sk-toggleable__control:checked~label.sk-toggleable__label {background-color: #d4ebff;}#sk-container-id-1 input.sk-hidden--visually {border: 0;clip: rect(1px 1px 1px 1px);clip: rect(1px, 1px, 1px, 1px);height: 1px;margin: -1px;overflow: hidden;padding: 0;position: absolute;width: 1px;}#sk-container-id-1 div.sk-estimator {font-family: monospace;background-color: #f0f8ff;border: 1px dotted black;border-radius: 0.25em;box-sizing: border-box;margin-bottom: 0.5em;}#sk-container-id-1 div.sk-estimator:hover {background-color: #d4ebff;}#sk-container-id-1 div.sk-parallel-item::after {content: \"\";width: 100%;border-bottom: 1px solid gray;flex-grow: 1;}#sk-container-id-1 div.sk-label:hover label.sk-toggleable__label {background-color: #d4ebff;}#sk-container-id-1 div.sk-serial::before {content: \"\";position: absolute;border-left: 1px solid gray;box-sizing: border-box;top: 0;bottom: 0;left: 50%;z-index: 0;}#sk-container-id-1 div.sk-serial {display: flex;flex-direction: column;align-items: center;background-color: white;padding-right: 0.2em;padding-left: 0.2em;position: relative;}#sk-container-id-1 div.sk-item {position: relative;z-index: 1;}#sk-container-id-1 div.sk-parallel {display: flex;align-items: stretch;justify-content: center;background-color: white;position: relative;}#sk-container-id-1 div.sk-item::before, #sk-container-id-1 div.sk-parallel-item::before {content: \"\";position: absolute;border-left: 1px solid gray;box-sizing: border-box;top: 0;bottom: 0;left: 50%;z-index: -1;}#sk-container-id-1 div.sk-parallel-item {display: flex;flex-direction: column;z-index: 1;position: relative;background-color: white;}#sk-container-id-1 div.sk-parallel-item:first-child::after {align-self: flex-end;width: 50%;}#sk-container-id-1 div.sk-parallel-item:last-child::after {align-self: flex-start;width: 50%;}#sk-container-id-1 div.sk-parallel-item:only-child::after {width: 0;}#sk-container-id-1 div.sk-dashed-wrapped {border: 1px dashed gray;margin: 0 0.4em 0.5em 0.4em;box-sizing: border-box;padding-bottom: 0.4em;background-color: white;}#sk-container-id-1 div.sk-label label {font-family: monospace;font-weight: bold;display: inline-block;line-height: 1.2em;}#sk-container-id-1 div.sk-label-container {text-align: center;}#sk-container-id-1 div.sk-container {/* jupyter's `normalize.less` sets `[hidden] { display: none; }` but bootstrap.min.css set `[hidden] { display: none !important; }` so we also need the `!important` here to be able to override the default hidden behavior on the sphinx rendered scikit-learn.org. See: https://github.com/scikit-learn/scikit-learn/issues/21755 */display: inline-block !important;position: relative;}#sk-container-id-1 div.sk-text-repr-fallback {display: none;}</style><div id=\"sk-container-id-1\" class=\"sk-top-container\"><div class=\"sk-text-repr-fallback\"><pre>XGBRegressor(base_score=None, booster=None, callbacks=None,\n",
       "             colsample_bylevel=None, colsample_bynode=None,\n",
       "             colsample_bytree=None, early_stopping_rounds=None,\n",
       "             enable_categorical=False, eval_metric=None, feature_types=None,\n",
       "             gamma=None, gpu_id=None, grow_policy=None, importance_type=None,\n",
       "             interaction_constraints=None, learning_rate=0.003, max_bin=None,\n",
       "             max_cat_threshold=None, max_cat_to_onehot=None,\n",
       "             max_delta_step=None, max_depth=3, max_leaves=None,\n",
       "             min_child_weight=None, missing=nan, monotone_constraints=None,\n",
       "             n_estimators=50, n_jobs=None, num_parallel_tree=None,\n",
       "             predictor=None, random_state=42, ...)</pre><b>In a Jupyter environment, please rerun this cell to show the HTML representation or trust the notebook. <br />On GitHub, the HTML representation is unable to render, please try loading this page with nbviewer.org.</b></div><div class=\"sk-container\" hidden><div class=\"sk-item\"><div class=\"sk-estimator sk-toggleable\"><input class=\"sk-toggleable__control sk-hidden--visually\" id=\"sk-estimator-id-1\" type=\"checkbox\" checked><label for=\"sk-estimator-id-1\" class=\"sk-toggleable__label sk-toggleable__label-arrow\">XGBRegressor</label><div class=\"sk-toggleable__content\"><pre>XGBRegressor(base_score=None, booster=None, callbacks=None,\n",
       "             colsample_bylevel=None, colsample_bynode=None,\n",
       "             colsample_bytree=None, early_stopping_rounds=None,\n",
       "             enable_categorical=False, eval_metric=None, feature_types=None,\n",
       "             gamma=None, gpu_id=None, grow_policy=None, importance_type=None,\n",
       "             interaction_constraints=None, learning_rate=0.003, max_bin=None,\n",
       "             max_cat_threshold=None, max_cat_to_onehot=None,\n",
       "             max_delta_step=None, max_depth=3, max_leaves=None,\n",
       "             min_child_weight=None, missing=nan, monotone_constraints=None,\n",
       "             n_estimators=50, n_jobs=None, num_parallel_tree=None,\n",
       "             predictor=None, random_state=42, ...)</pre></div></div></div></div></div>"
      ],
      "text/plain": [
       "XGBRegressor(base_score=None, booster=None, callbacks=None,\n",
       "             colsample_bylevel=None, colsample_bynode=None,\n",
       "             colsample_bytree=None, early_stopping_rounds=None,\n",
       "             enable_categorical=False, eval_metric=None, feature_types=None,\n",
       "             gamma=None, gpu_id=None, grow_policy=None, importance_type=None,\n",
       "             interaction_constraints=None, learning_rate=0.003, max_bin=None,\n",
       "             max_cat_threshold=None, max_cat_to_onehot=None,\n",
       "             max_delta_step=None, max_depth=3, max_leaves=None,\n",
       "             min_child_weight=None, missing=nan, monotone_constraints=None,\n",
       "             n_estimators=50, n_jobs=None, num_parallel_tree=None,\n",
       "             predictor=None, random_state=42, ...)"
      ]
     },
     "execution_count": 11,
     "metadata": {},
     "output_type": "execute_result"
    }
   ],
   "source": [
    "# Retrain with just these features \n",
    "\n",
    "# Initialize the model\n",
    "xgb_model_top = xgb.XGBRegressor(objective='reg:squarederror', n_estimators=50, learning_rate=0.003, max_depth=3, random_state=42)\n",
    "\n",
    "# Fit the model\n",
    "xgb_model_top.fit(X__train_select_y1[top_tot_features], y_train_select_y1)"
   ]
  },
  {
   "cell_type": "code",
   "execution_count": 17,
   "metadata": {},
   "outputs": [
    {
     "ename": "AttributeError",
     "evalue": "'numpy.ndarray' object has no attribute 'to_numpy'",
     "output_type": "error",
     "traceback": [
      "\u001b[0;31m---------------------------------------------------------------------------\u001b[0m",
      "\u001b[0;31mAttributeError\u001b[0m                            Traceback (most recent call last)",
      "Cell \u001b[0;32mIn[17], line 3\u001b[0m\n\u001b[1;32m      1\u001b[0m \u001b[38;5;66;03m# Make the training and validation labels have shape (n,)\u001b[39;00m\n\u001b[0;32m----> 3\u001b[0m y_train_y1 \u001b[38;5;241m=\u001b[39m \u001b[43my_train_y1\u001b[49m\u001b[38;5;241;43m.\u001b[39;49m\u001b[43mto_numpy\u001b[49m()\n\u001b[1;32m      4\u001b[0m y_val_y1 \u001b[38;5;241m=\u001b[39m y_val_y1\u001b[38;5;241m.\u001b[39mto_numpy()\n",
      "\u001b[0;31mAttributeError\u001b[0m: 'numpy.ndarray' object has no attribute 'to_numpy'"
     ]
    }
   ],
   "source": [
    "# Make the training and validation labels have shape (n,)\n",
    "\n",
    "y_train_y1 = y_train_y1.to_numpy()\n",
    "y_val_y1 = y_val_y1.to_numpy()"
   ]
  },
  {
   "cell_type": "code",
   "execution_count": 16,
   "metadata": {},
   "outputs": [
    {
     "name": "stdout",
     "output_type": "stream",
     "text": [
      "(1249286, 1)\n",
      "(1249286,)\n"
     ]
    }
   ],
   "source": [
    "print(y_val_y1.shape)\n",
    "print(y_val_pred_y1.shape)"
   ]
  },
  {
   "cell_type": "code",
   "execution_count": 13,
   "metadata": {},
   "outputs": [
    {
     "name": "stdout",
     "output_type": "stream",
     "text": [
      "155.24664 137.11363\n",
      "8.977689 8.411222\n"
     ]
    }
   ],
   "source": [
    "# Evaluate this on the training and validation data\n",
    "\n",
    "y_train_pred_y1 = xgb_model_top.predict(X_train_y1[top_tot_features])\n",
    "y_val_pred_y1 = xgb_model_top.predict(X_val_y1[top_tot_features])\n",
    "\n",
    "mse_train_y1 = mean_squared_error(y_train_y1, y_train_pred_y1)\n",
    "mse_val_y1 = mean_squared_error(y_val_y1, y_val_pred_y1)\n",
    "\n",
    "print(mse_train_y1, mse_val_y1)\n",
    "\n",
    "from sklearn.metrics import mean_absolute_error\n",
    "\n",
    "mae_train_y1 = mean_absolute_error(y_train_pred_y1, y_train_y1)\n",
    "mae_val_y1 = mean_absolute_error(y_val_pred_y1, y_val_y1)\n",
    "\n",
    "print(mae_train_y1, mae_val_y1)"
   ]
  },
  {
   "cell_type": "code",
   "execution_count": 124,
   "metadata": {},
   "outputs": [],
   "source": [
    "# Creating y_val_select_y1 which contains strange events in the validation set \n",
    "y_val_select_y1 = y_val_y1[(y_val_y1 < -24) | (y_val_y1 > 24)]"
   ]
  },
  {
   "cell_type": "code",
   "execution_count": 18,
   "metadata": {},
   "outputs": [
    {
     "name": "stdout",
     "output_type": "stream",
     "text": [
      "MSE of mean prediction: 137.09378\n",
      "MAE of mean prediction: 8.408851\n"
     ]
    }
   ],
   "source": [
    "# For Mean Prediction Benchmark\n",
    "\n",
    "mean_y = np.mean(y_train_select_y1)\n",
    "mse_baseline = mean_squared_error(y_val_y1, [mean_y]*len(y_val_y1))\n",
    "print('MSE of mean prediction:', mse_baseline)\n",
    "\n",
    "mae_baseline = mean_absolute_error([mean_y]*len(y_val_y1), y_val_y1)\n",
    "print('MAE of mean prediction:', mae_baseline)"
   ]
  },
  {
   "cell_type": "code",
   "execution_count": 19,
   "metadata": {},
   "outputs": [
    {
     "data": {
      "image/png": "[encoded data removed]",
      "text/plain": [
       "<Figure size 640x480 with 1 Axes>"
      ]
     },
     "metadata": {},
     "output_type": "display_data"
    }
   ],
   "source": [
    "plt.scatter(y_val_y1, y_val_pred_y1)\n",
    "plt.show()"
   ]
  },
  {
   "cell_type": "code",
   "execution_count": 108,
   "metadata": {},
   "outputs": [],
   "source": [
    "from tensorflow.keras.models import Sequential\n",
    "from tensorflow.keras.layers import Dense\n",
    "\n",
    "# Initialize the constructor\n",
    "model = Sequential()\n",
    "\n",
    "# Add an input layer \n",
    "model.add(Dense(len(top_tot_features), activation='relu', input_shape=(10,)))\n",
    "\n",
    "# Add one hidden layer \n",
    "model.add(Dense(10, activation='relu'))\n",
    "\n",
    "# Add an output layer \n",
    "model.add(Dense(1, activation='linear'))\n"
   ]
  },
  {
   "cell_type": "code",
   "execution_count": 109,
   "metadata": {},
   "outputs": [
    {
     "name": "stdout",
     "output_type": "stream",
     "text": [
      "Epoch 1/4\n",
      "37792/37792 [==============================] - 38s 977us/step - loss: 140.6033 - mse: 140.6033\n",
      "Epoch 2/4\n",
      "37792/37792 [==============================] - 37s 979us/step - loss: 139.4686 - mse: 139.4686\n",
      "Epoch 3/4\n",
      "37792/37792 [==============================] - 36s 956us/step - loss: 139.0039 - mse: 139.0039\n",
      "Epoch 4/4\n",
      "37792/37792 [==============================] - 36s 964us/step - loss: 138.7310 - mse: 138.7310\n"
     ]
    },
    {
     "data": {
      "text/plain": [
       "<keras.callbacks.History at 0x38c0a1350>"
      ]
     },
     "execution_count": 109,
     "metadata": {},
     "output_type": "execute_result"
    }
   ],
   "source": [
    "model.compile(loss='mean_squared_error', optimizer='adam', metrics=['mse'])\n",
    "\n",
    "model.fit(X_train_y1[X_train_y1['afternoon'] == 1][top_tot_features], y_train_y1[X_train_y1['afternoon'] == 1], epochs=4, batch_size=64, verbose=1)"
   ]
  },
  {
   "cell_type": "code",
   "execution_count": 110,
   "metadata": {},
   "outputs": [
    {
     "name": "stdout",
     "output_type": "stream",
     "text": [
      "25104/25104 [==============================] - 20s 782us/step - loss: 122.0439 - mse: 122.0439\n"
     ]
    },
    {
     "data": {
      "text/plain": [
       "[122.04387664794922, 122.04387664794922]"
      ]
     },
     "execution_count": 110,
     "metadata": {},
     "output_type": "execute_result"
    }
   ],
   "source": [
    "model.evaluate(X_val_y1[X_val_y1['afternoon'] == 1][top_tot_features], y_val_y1[X_val_y1['afternoon'] == 1], verbose=1)\n"
   ]
  },
  {
   "cell_type": "code",
   "execution_count": 89,
   "metadata": {},
   "outputs": [
    {
     "data": {
      "text/plain": [
       "count    3.767637e+06\n",
       "mean    -7.069199e-02\n",
       "std      1.245354e+01\n",
       "min     -1.308300e+02\n",
       "25%     -6.615149e+00\n",
       "50%      0.000000e+00\n",
       "75%      6.480218e+00\n",
       "max      1.721492e+02\n",
       "dtype: float64"
      ]
     },
     "execution_count": 89,
     "metadata": {},
     "output_type": "execute_result"
    }
   ],
   "source": [
    "# Looking at histogram of \n",
    "\n",
    "pd.Series(y_train_y1.reshape(-1)).describe()"
   ]
  }
 ],
 "metadata": {
  "kernelspec": {
   "display_name": "Python 3",
   "language": "python",
   "name": "python3"
  },
  "language_info": {
   "codemirror_mode": {
    "name": "ipython",
    "version": 3
   },
   "file_extension": ".py",
   "mimetype": "text/x-python",
   "name": "python",
   "nbconvert_exporter": "python",
   "pygments_lexer": "ipython3",
   "version": "3.11.4"
  }
 },
 "nbformat": 4,
 "nbformat_minor": 2
}
